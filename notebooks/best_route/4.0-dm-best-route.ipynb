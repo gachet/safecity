{
 "cells": [
  {
   "cell_type": "code",
   "execution_count": 129,
   "metadata": {},
   "outputs": [],
   "source": [
    "import gmaps\n",
    "import gmaps.heatmap\n",
    "\n",
    "import os\n",
    "import random\n",
    "import math\n",
    "import numpy as np\n",
    "\n",
    "import matplotlib.pyplot as plt\n",
    "import seaborn as sns\n",
    "\n",
    "from dotenv import load_dotenv, find_dotenv\n",
    "import requests"
   ]
  },
  {
   "cell_type": "markdown",
   "metadata": {},
   "source": [
    "### Retrieve Google API Key"
   ]
  },
  {
   "cell_type": "code",
   "execution_count": 74,
   "metadata": {},
   "outputs": [],
   "source": [
    "load_dotenv(find_dotenv())\n",
    "API_KEY = os.getenv(\"API_KEY\")\n",
    "gmaps.configure(api_key=API_KEY)"
   ]
  },
  {
   "cell_type": "markdown",
   "metadata": {},
   "source": [
    "### Utility Functions\n",
    "\n",
    "The following section provies utility functions to:\n",
    "\n",
    "* `get_boundaries` Get latitude, longitude boundaries given a centre coordinate and a radius\n",
    "* `get_grid_points` Get evenly spaced coodinates given lat, lon boundaries and granularity (offset in meters)\n",
    "* `generate_points` Randomly generate coordinate locations given the boundaries\n",
    "* `generate_weights` Randomly generate weights for each coordinate location\n",
    "* `create_heatmap` Render a heatmap given centre, safe places, location hotspots, weights, and max intensity"
   ]
  },
  {
   "cell_type": "code",
   "execution_count": 82,
   "metadata": {},
   "outputs": [],
   "source": [
    "def get_boundaries(centre, radius=2):\n",
    "    \"\"\"\n",
    "    Given a centre coordinate and specified radius (in km)\n",
    "    generate a bounding box of lat, lon\n",
    "    \"\"\"\n",
    "    R_EARTH = 6_378\n",
    "    lat, lon = centre\n",
    "    \n",
    "    lat_high = lat  + (radius / R_EARTH) * (180 / math.pi)\n",
    "    lat_low = lat - (radius / R_EARTH) * (180 / math.pi)\n",
    "    \n",
    "    lon_high = lon + (radius / R_EARTH ) * (180 / math.pi) / math.cos(lat * math.pi/180)\n",
    "    lon_low = lon - (radius / R_EARTH ) * (180 / math.pi) / math.cos(lat * math.pi/180)\n",
    "    \n",
    "    return ((lat_low, lat_high), (lon_low, lon_high))"
   ]
  },
  {
   "cell_type": "code",
   "execution_count": 83,
   "metadata": {},
   "outputs": [],
   "source": [
    "def get_grid_points(boundaries, granularity=20):\n",
    "    \"\"\"\n",
    "    Retrieve an lat, lon coordinates given boundaries and granularity (in meters)\n",
    "    \"\"\"\n",
    "    R_EARTH = 6_378\n",
    "    \n",
    "    lat_bound, lon_bound = boundaries\n",
    "    \n",
    "    lat_diff = ((granularity / 1000) / R_EARTH) * (180 / math.pi)\n",
    "        \n",
    "    start_lat, end_lat = lat_bound\n",
    "    lat_points = [start_lat]\n",
    "    while end_lat > start_lat:\n",
    "        start_lat += lat_diff\n",
    "        lat_points.append(start_lat)\n",
    "        \n",
    "    def get_lon_diff(lat_):\n",
    "        return ((granularity / 1000) / R_EARTH) * (180 / math.pi) / cos(lat_ * pi/180)\n",
    "    \n",
    "    lon_diffs = [get_lon_diff(i) for i in lat_points]\n",
    "    \n",
    "    start_lon, end_lon = lon_bound\n",
    "    lon_points = [start_lon]\n",
    "    lon_diffs_num = 0\n",
    "    while end_lon > start_lon:\n",
    "        start_lon += lon_diffs[lon_diffs_num]\n",
    "        lon_points.append(start_lon)\n",
    "        lon_diffs_num += 1\n",
    "        \n",
    "    return list(zip(lat_points, lon_points))"
   ]
  },
  {
   "cell_type": "code",
   "execution_count": 84,
   "metadata": {},
   "outputs": [],
   "source": [
    "def generate_points(boundaries, num_points):\n",
    "    \"\"\"\n",
    "    Randomly generate points given boundaries\n",
    "    \"\"\"\n",
    "    lat_bound, lon_bound = boundaries\n",
    "        \n",
    "    return [(random.uniform(*lat_bound), random.uniform(*lon_bound))\n",
    "            for i in range(num_points)]"
   ]
  },
  {
   "cell_type": "code",
   "execution_count": 85,
   "metadata": {},
   "outputs": [],
   "source": [
    "def generate_weights(num_points):\n",
    "    \"\"\"\n",
    "    Randomly generate weights\n",
    "    \"\"\"\n",
    "    return [random.random() for i in range(num_points)]"
   ]
  },
  {
   "cell_type": "code",
   "execution_count": 366,
   "metadata": {},
   "outputs": [],
   "source": [
    "def get_places(location, radius, typ, keyword, open_now=True):\n",
    "    \"\"\"\n",
    "    Retrieve from Google Maps Directions API, nearest location based on type and keyword\n",
    "    \"\"\"\n",
    "    lat, lon = location\n",
    "    \n",
    "    req_url = ('https://maps.googleapis.com/maps/api/place/nearbysearch/json?location={},{}&radius={}&type={}&keyword={}&opennow={}&key={}'\n",
    "               .format(lat, lon, radius, typ, keyword, open_now, API_KEY))\n",
    "    \n",
    "    response_dict = requests.get(req_url).json()\n",
    "\n",
    "    nearby_places = [{'name': entry['name'], 'coordinates': entry['geometry']['location']}\n",
    "                     for entry in response_dict['results'][:10]]\n",
    "    \n",
    "    return nearby_places"
   ]
  },
  {
   "cell_type": "code",
   "execution_count": 351,
   "metadata": {},
   "outputs": [],
   "source": [
    "def create_heatmap(centre, places, locations, weights, max_weight):\n",
    "    \"\"\"\n",
    "    Render heatmap of hotspots with directions to safespots\n",
    "    \"\"\"\n",
    "    fig = gmaps.figure()\n",
    "    heatmap = gmaps.heatmap_layer(locations, weights)\n",
    "    symbol_layer = gmaps.symbol_layer(locations)\n",
    "    places_symbol_layer = gmaps.symbol_layer(places)\n",
    "    \n",
    "    symbol_layer.markers = [gmaps.Symbol(location=centre, fill_color='red')]\n",
    "    places_symbol_layer.markers = [gmaps.Symbol(location=place, fill_color='blue') for place in places]\n",
    "    \n",
    "    heatmap.max_intensity = max_weight\n",
    "    heatmap.point_radius = 25\n",
    "    \n",
    "    fig.add_layer(heatmap)\n",
    "    fig.add_layer(symbol_layer)\n",
    "    fig.add_layer(places_symbol_layer)\n",
    "    \n",
    "    stroke_colors = ['aqua', 'olive', 'yellow', 'lime', 'red', 'black', 'green', 'blue', 'gray', 'fuschia']\n",
    "    directions = [gmaps.directions_layer(centre,\n",
    "                                         place, \n",
    "                                         stroke_color=stroke_colors[color_idx],\n",
    "                                         stroke_opacity=0.5,\n",
    "                                         travel_mode='WALKING')\n",
    "                  for color_idx, place in enumerate(places)]\n",
    "    \n",
    "    for direction in directions:\n",
    "        fig.add_layer(direction)\n",
    "    \n",
    "    return fig"
   ]
  },
  {
   "cell_type": "markdown",
   "metadata": {},
   "source": [
    "### Sample Run\n",
    "\n",
    "The following illustrates a trial run:\n",
    "* Define the centre as `19.069, 72.8777`, the actual centre of Mumbai\n",
    "* Define a radius of `2 km` around the centre\n",
    "* Randomly generate 200 coordinates and weights\n",
    "* Retrieve closest hospitals (safe spot) within a defined radius\n",
    "* Show directions to each hospital alongside the danger spots on Google Maps"
   ]
  },
  {
   "cell_type": "code",
   "execution_count": 367,
   "metadata": {
    "scrolled": true
   },
   "outputs": [
    {
     "data": {
      "application/vnd.jupyter.widget-view+json": {
       "model_id": "2a743739ac6942058f205a2cf7675d5e",
       "version_major": 2,
       "version_minor": 0
      },
      "text/plain": [
       "Figure(layout=FigureLayout(height='420px'))"
      ]
     },
     "metadata": {},
     "output_type": "display_data"
    }
   ],
   "source": [
    "centre = (19.069, 72.8777) # centre of Mumbai\n",
    "boundaries = get_boundaries(centre=centre)\n",
    "locations = generate_points(boundaries, 200)\n",
    "weights = generate_weights(200)\n",
    "\n",
    "places = get_places(centre, 1000, 'hospital', 'hospital')\n",
    "places = [(i['coordinates']['lat'], i['coordinates']['lng']) for i in places]\n",
    "create_heatmap(centre, places, locations, weights, 4)"
   ]
  },
  {
   "cell_type": "markdown",
   "metadata": {},
   "source": [
    "### Mapping Hotspots and Safespots from matrix\n",
    "\n",
    "The following section details mapping to a sample matrix of Mumbai from `Task 1` with danger levels generated to Google Maps"
   ]
  },
  {
   "cell_type": "code",
   "execution_count": 90,
   "metadata": {},
   "outputs": [],
   "source": [
    "# define boundaries for Mumbai\n",
    "D_MIN_LAT = 28.490665\n",
    "D_MAX_LAT = 28.75683\n",
    "\n",
    "D_MIN_LON = 77.017121\n",
    "D_MAX_LON = 77.339847"
   ]
  },
  {
   "cell_type": "code",
   "execution_count": 122,
   "metadata": {},
   "outputs": [],
   "source": [
    "def create_grid(file_name):\n",
    "    \"\"\"\n",
    "    Read in grid and flatten into 1D array\n",
    "    \"\"\"\n",
    "    grid = []\n",
    "    with open(file_name) as f:\n",
    "        for line in f.readlines():\n",
    "            grid.append(line.rstrip('\\n'))\n",
    "            \n",
    "    grid = np.array([row.split(',') for row in grid])\n",
    "    \n",
    "    return grid.astype(float)"
   ]
  },
  {
   "cell_type": "code",
   "execution_count": 111,
   "metadata": {},
   "outputs": [],
   "source": [
    "def get_coordinates(lat_min, lat_max, lon_min, lon_max, dimension):\n",
    "    \"\"\"\n",
    "    Get coordinates based on min, max boundaries and resolution (dimension)\n",
    "    Note: coordinates are not generated according to distance metric, as\n",
    "    they are evenly spaced lat, lon values based on dimension\n",
    "    \"\"\"\n",
    "    lat_diff = (lat_max - lat_min) / (dimension - 1)\n",
    "    lon_diff = (lon_max - lon_min) / (dimension - 1)\n",
    "    \n",
    "    lat_values = [lat_min + lat_diff * i for i in range(dimension)]\n",
    "    lon_values = [lon_min + lon_diff * i for i in range(dimension)]\n",
    "    \n",
    "    coordinates = [[(j, i) for i in lon_values] for j in lat_values][::-1]\n",
    "    \n",
    "    return [j for i in coordinates for j in i]"
   ]
  },
  {
   "cell_type": "code",
   "execution_count": 112,
   "metadata": {},
   "outputs": [],
   "source": [
    "def rescale(weights):\n",
    "    \"\"\"\n",
    "    Rescale weights to [0, 1] if needed\n",
    "    \"\"\"\n",
    "    return [(i - min(weights)) / (max(weights) - min(weights)) for i in weights]"
   ]
  },
  {
   "cell_type": "markdown",
   "metadata": {},
   "source": [
    "### Trial run of Heatmapping\n",
    "\n",
    "Here we test generating a heatmap on Mumbai and check the nearest hospitals to `28.65825037037037, 77.2561772962963` within `2 km`."
   ]
  },
  {
   "cell_type": "code",
   "execution_count": 368,
   "metadata": {
    "scrolled": true
   },
   "outputs": [
    {
     "data": {
      "application/vnd.jupyter.widget-view+json": {
       "model_id": "6f606f29b74644e59b41d9de0457415b",
       "version_major": 2,
       "version_minor": 0
      },
      "text/plain": [
       "Figure(layout=FigureLayout(height='420px'))"
      ]
     },
     "metadata": {},
     "output_type": "display_data"
    }
   ],
   "source": [
    "locations = get_coordinates(D_MIN_LAT, D_MAX_LAT, D_MIN_LON, D_MAX_LON, 28)\n",
    "weights = create_grid('sample_grid.csv').flatten()\n",
    "places = get_places(locations[300], 2000, 'hospital', 'hospital')\n",
    "places = [(i['coordinates']['lat'], i['coordinates']['lng']) for i in places]\n",
    "create_heatmap(locations[300], places, locations, weights, max(weights))"
   ]
  },
  {
   "cell_type": "code",
   "execution_count": 145,
   "metadata": {},
   "outputs": [
    {
     "data": {
      "text/plain": [
       "<matplotlib.axes._subplots.AxesSubplot at 0x7ffc389ff908>"
      ]
     },
     "execution_count": 145,
     "metadata": {},
     "output_type": "execute_result"
    },
    {
     "data": {
      "image/png": "[encoded data removed]",
      "text/plain": [
       "<Figure size 864x648 with 2 Axes>"
      ]
     },
     "metadata": {
      "needs_background": "light"
     },
     "output_type": "display_data"
    }
   ],
   "source": [
    "# validate heatmap looks correct using viz library\n",
    "plt.figure(figsize=(12, 9))\n",
    "sns.heatmap(create_grid('sample_grid.csv'), cmap='coolwarm')"
   ]
  },
  {
   "cell_type": "markdown",
   "metadata": {},
   "source": [
    "### Calculation of Safest Route\n",
    "\n",
    "The following sections details ways to recommend the safest route to a safespot given a lat, lon coordinate.\n",
    "\n",
    "Below are the various proposed methods:\n",
    "\n",
    "* **Method 1**: Safest route is determined by safest destination, whichever destination is closest to a coordinate that is the least dangerous\n",
    "\n",
    "* **Method 2**: Calculation based on weighted average of danger on the 'legs' of routes generated by `Directions API`; each leg has a starting and ending coordinate\n",
    "\n",
    "* **Method 3**: Calculation based on `line of sight` algorithm; create line segments for each leg of the a route and find the gridboxes that each leg segment passes through"
   ]
  },
  {
   "cell_type": "markdown",
   "metadata": {},
   "source": [
    "#### Method 1: Safest Destination"
   ]
  },
  {
   "cell_type": "code",
   "execution_count": 370,
   "metadata": {},
   "outputs": [
    {
     "data": {
      "text/plain": [
       "[{'name': 'Khadija National Hospital',\n",
       "  'coordinates': {'lat': 28.6438065, 'lng': 77.2381575}},\n",
       " {'name': 'Sabharwal Hospital',\n",
       "  'coordinates': {'lat': 28.6443783, 'lng': 77.2386641}},\n",
       " {'name': 'Jain Charitable Hospital',\n",
       "  'coordinates': {'lat': 28.6649861, 'lng': 77.2699534}},\n",
       " {'name': 'Dehli Hospital',\n",
       "  'coordinates': {'lat': 28.6417933, 'lng': 77.2450101}},\n",
       " {'name': 'Jag Pravesh Chandra Hospital',\n",
       "  'coordinates': {'lat': 28.6762461, 'lng': 77.2629156}},\n",
       " {'name': 'Vyas Charitable Hospital',\n",
       "  'coordinates': {'lat': 28.660889, 'lng': 77.268093}},\n",
       " {'name': 'Govind Ballabh Pant Hospital',\n",
       "  'coordinates': {'lat': 28.6393553, 'lng': 77.23503319999999}},\n",
       " {'name': 'Lok Nayak Hospital',\n",
       "  'coordinates': {'lat': 28.6390815, 'lng': 77.2376888}},\n",
       " {'name': 'RS Grover Hospital',\n",
       "  'coordinates': {'lat': 28.6426051, 'lng': 77.2774488}},\n",
       " {'name': 'Government Hospital',\n",
       "  'coordinates': {'lat': 28.668388, 'lng': 77.2774766}}]"
      ]
     },
     "execution_count": 370,
     "metadata": {},
     "output_type": "execute_result"
    }
   ],
   "source": [
    "sample_places = get_places(locations[300], 2000, 'hospital', 'hospital')\n",
    "sample_places"
   ]
  },
  {
   "cell_type": "code",
   "execution_count": 369,
   "metadata": {},
   "outputs": [
    {
     "data": {
      "application/vnd.jupyter.widget-view+json": {
       "model_id": "aef21fdd58544c719f16dba6c56f3941",
       "version_major": 2,
       "version_minor": 0
      },
      "text/plain": [
       "Figure(layout=FigureLayout(height='420px'))"
      ]
     },
     "metadata": {},
     "output_type": "display_data"
    }
   ],
   "source": [
    "create_heatmap(locations[300], [(place['coordinates']['lat'], place['coordinates']['lng']) for place in sample_places], locations, weights, max(weights))"
   ]
  },
  {
   "cell_type": "code",
   "execution_count": 371,
   "metadata": {},
   "outputs": [],
   "source": [
    "def calc_distance(a, b):\n",
    "    return math.sqrt(abs(a[0] - b[0])**2 + abs(a[1] - b[1])**2)"
   ]
  },
  {
   "cell_type": "code",
   "execution_count": 487,
   "metadata": {},
   "outputs": [],
   "source": [
    "def find_nearest(coordinates, locations):\n",
    "    \"\"\"\n",
    "    Find nearest point given safespot coordinates\n",
    "    \"\"\"\n",
    "    lat, lon = coordinates\n",
    "    distances = [calc_distance((lat, lon), i) for i in locations]\n",
    "    \n",
    "    return np.where(np.array(distances) == np.amin(distances))[0][0]"
   ]
  },
  {
   "cell_type": "code",
   "execution_count": 488,
   "metadata": {},
   "outputs": [
    {
     "data": {
      "text/plain": [
       "300"
      ]
     },
     "execution_count": 488,
     "metadata": {},
     "output_type": "execute_result"
    }
   ],
   "source": [
    "find_nearest(locations[300], locations)"
   ]
  },
  {
   "cell_type": "code",
   "execution_count": 254,
   "metadata": {},
   "outputs": [
    {
     "name": "stdout",
     "output_type": "stream",
     "text": [
      "1.11 ms ± 11.4 µs per loop (mean ± std. dev. of 7 runs, 1000 loops each)\n"
     ]
    }
   ],
   "source": [
    "%timeit find_nearest(locations[300], locations)"
   ]
  },
  {
   "cell_type": "code",
   "execution_count": 409,
   "metadata": {},
   "outputs": [],
   "source": [
    "def find_best_spot(starting_point, places, danger_weights, locations):\n",
    "    \"\"\"\n",
    "    Given a starting point and list of safe spots and their respective danger weights,\n",
    "    find the best spot to go\n",
    "    \"\"\"\n",
    "    # calc and update distances\n",
    "    [place.update({'distance': calc_distance(starting_point,\n",
    "                                             (place['coordinates']['lat'],\n",
    "                                              place['coordinates']['lng']))}) for place in places]\n",
    "    \n",
    "    # calc weights\n",
    "    [place.update({'danger_score': danger_weights[\n",
    "        find_nearest(\n",
    "            (place['coordinates']['lat'],\n",
    "             place['coordinates']['lng']), locations)]}) for place in places]\n",
    "                                                           \n",
    "\n",
    "    return sorted(places, key=lambda x: (x['danger_score'], x['distance']))[0]"
   ]
  },
  {
   "cell_type": "code",
   "execution_count": 257,
   "metadata": {},
   "outputs": [
    {
     "name": "stdout",
     "output_type": "stream",
     "text": [
      "10.4 ms ± 101 µs per loop (mean ± std. dev. of 7 runs, 100 loops each)\n"
     ]
    }
   ],
   "source": [
    "# time to see how efficient\n",
    "%timeit find_best_spot(sample_places, weights, locations)"
   ]
  },
  {
   "cell_type": "code",
   "execution_count": 410,
   "metadata": {},
   "outputs": [],
   "source": [
    "# best spot based on the 300th starting point\n",
    "best_spot = find_best_spot(locations[300], sample_places, weights, locations)"
   ]
  },
  {
   "cell_type": "code",
   "execution_count": 411,
   "metadata": {},
   "outputs": [
    {
     "data": {
      "text/plain": [
       "{'name': 'Jag Pravesh Chandra Hospital',\n",
       " 'coordinates': {'lat': 28.6762461, 'lng': 77.2629156},\n",
       " 'distance': 0.01921590543549743,\n",
       " 'danger_score': 1.0}"
      ]
     },
     "execution_count": 411,
     "metadata": {},
     "output_type": "execute_result"
    }
   ],
   "source": [
    "best_spot"
   ]
  },
  {
   "cell_type": "code",
   "execution_count": 413,
   "metadata": {},
   "outputs": [],
   "source": [
    "# get the best coordinates\n",
    "best_coordinates = best_spot['coordinates']['lat'], best_spot['coordinates']['lng']"
   ]
  },
  {
   "cell_type": "code",
   "execution_count": 415,
   "metadata": {},
   "outputs": [
    {
     "data": {
      "application/vnd.jupyter.widget-view+json": {
       "model_id": "6a78da284fa14251a5aa2611aa468bed",
       "version_major": 2,
       "version_minor": 0
      },
      "text/plain": [
       "Figure(layout=FigureLayout(height='420px'))"
      ]
     },
     "metadata": {},
     "output_type": "display_data"
    }
   ],
   "source": [
    "create_heatmap(locations[300], [best_coordinates], locations, weights, max(weights))"
   ]
  },
  {
   "cell_type": "code",
   "execution_count": 444,
   "metadata": {
    "scrolled": true
   },
   "outputs": [
    {
     "data": {
      "application/vnd.jupyter.widget-view+json": {
       "model_id": "172b18b81a0b40c380a6ab93da744efa",
       "version_major": 2,
       "version_minor": 0
      },
      "text/plain": [
       "Figure(layout=FigureLayout(height='420px'))"
      ]
     },
     "metadata": {},
     "output_type": "display_data"
    }
   ],
   "source": [
    "# another example\n",
    "sample_places = get_places(locations[350], 2000, 'hospital', 'hospital')\n",
    "sample_places_c = [(i['coordinates']['lat'], i['coordinates']['lng']) for i in sample_places]\n",
    "create_heatmap(locations[350], sample_places_c, locations, weights, max(weights))"
   ]
  },
  {
   "cell_type": "code",
   "execution_count": 446,
   "metadata": {},
   "outputs": [
    {
     "data": {
      "application/vnd.jupyter.widget-view+json": {
       "model_id": "9cab1d68807e4eff8f7cb9213afed82c",
       "version_major": 2,
       "version_minor": 0
      },
      "text/plain": [
       "Figure(layout=FigureLayout(height='420px'))"
      ]
     },
     "metadata": {},
     "output_type": "display_data"
    }
   ],
   "source": [
    "# in this case, the best route is the one furthest from the danger spots\n",
    "best_spot = find_best_spot(locations[350], sample_places, weights, locations)\n",
    "best_coordinates = best_spot['coordinates']['lat'], best_spot['coordinates']['lng']\n",
    "create_heatmap(locations[350], [best_coordinates], locations, weights, max(weights))"
   ]
  },
  {
   "cell_type": "markdown",
   "metadata": {},
   "source": [
    "#### Method 2: Safest Route based on Weighted `Steps`"
   ]
  },
  {
   "cell_type": "code",
   "execution_count": 537,
   "metadata": {},
   "outputs": [],
   "source": [
    "def get_route(starting_point, dest_point):\n",
    "    \"\"\"\n",
    "    Get the ending lat, lon steps for each route given starting and destination coordinates\n",
    "    \"\"\"\n",
    "    \n",
    "    request_url = ('https://maps.googleapis.com/maps/api/directions/'\n",
    "    + 'json?origin={}&destination={}&mode=walking&key={}').format(','.join(map(str,starting_point)),\n",
    "                                                                   ','.join(map(str,dest_point)),\n",
    "                                                                   API_KEY)\n",
    "    \n",
    "    response = requests.get(request_url).json()['routes'][0]['legs'][0]\n",
    "\n",
    "    return_dct = {'total_distance': response['distance']['value']}\n",
    "    \n",
    "    return_dct.update({'steps': [{'end': step['end_location']} for step in response['steps']]})\n",
    "    \n",
    "    return return_dct"
   ]
  },
  {
   "cell_type": "code",
   "execution_count": 583,
   "metadata": {},
   "outputs": [],
   "source": [
    "def compute_weighted_danger(routes, locations):\n",
    "    \"\"\"\n",
    "    Compute danger for each ending lat, lon coordinate for each route\n",
    "    \"\"\"\n",
    "    steps = [(step['end']['lat'], step['end']['lng']) for step in routes['steps']]\n",
    "    nearest_coordinates = [find_nearest(step, locations) for step in steps]\n",
    "    \n",
    "    return np.mean([weights[idx] for idx in nearest_coordinates])"
   ]
  },
  {
   "cell_type": "code",
   "execution_count": 582,
   "metadata": {},
   "outputs": [],
   "source": [
    "def sort_routes(routes):\n",
    "    \"\"\"\n",
    "    Return routes list sorted first by danger, then by distance\n",
    "    \"\"\"\n",
    "    [route.update({'danger' : compute_weighted_danger(route, locations)}) for route in routes]\n",
    "    return sorted(routes, key = lambda x: (x['danger'], x['total_distance']))"
   ]
  },
  {
   "cell_type": "code",
   "execution_count": 584,
   "metadata": {},
   "outputs": [],
   "source": [
    "places = get_places(locations[350], 2000, 'hospital', 'hospital')\n",
    "places = [(i['coordinates']['lat'], i['coordinates']['lng']) for i in places]\n",
    "routes = [get_route(locations[350], place) for place in places]"
   ]
  },
  {
   "cell_type": "code",
   "execution_count": 585,
   "metadata": {},
   "outputs": [
    {
     "data": {
      "application/vnd.jupyter.widget-view+json": {
       "model_id": "2b53ee5b19f848939093fe4f9a7aaeb1",
       "version_major": 2,
       "version_minor": 0
      },
      "text/plain": [
       "Figure(layout=FigureLayout(height='420px'))"
      ]
     },
     "metadata": {},
     "output_type": "display_data"
    }
   ],
   "source": [
    "# same example based on location #350 for nearest hospitals\n",
    "sample_places = get_places(locations[350], 2000, 'hospital', 'hospital')\n",
    "sample_places_c = [(i['coordinates']['lat'], i['coordinates']['lng']) for i in sample_places]\n",
    "create_heatmap(locations[350], sample_places_c, locations, weights, max(weights))"
   ]
  },
  {
   "cell_type": "code",
   "execution_count": 586,
   "metadata": {},
   "outputs": [
    {
     "data": {
      "application/vnd.jupyter.widget-view+json": {
       "model_id": "404053662a69483cb4bda370189e9a86",
       "version_major": 2,
       "version_minor": 0
      },
      "text/plain": [
       "Figure(layout=FigureLayout(height='420px'))"
      ]
     },
     "metadata": {},
     "output_type": "display_data"
    }
   ],
   "source": [
    "# retrieve the top ranked best route\n",
    "best_route = sort_routes(routes)[0]\n",
    "\n",
    "# get coordinates of last ending point\n",
    "best_coordinates = (best_route['steps'][-1]['end']['lat'], best_route['steps'][-1]['end']['lng'])\n",
    "\n",
    "# show directions on heatmap of best route\n",
    "create_heatmap(locations[350], [best_coordinates], locations, weights, max(weights))"
   ]
  }
 ],
 "metadata": {
  "kernelspec": {
   "display_name": "Python 3",
   "language": "python",
   "name": "python3"
  },
  "language_info": {
   "codemirror_mode": {
    "name": "ipython",
    "version": 3
   },
   "file_extension": ".py",
   "mimetype": "text/x-python",
   "name": "python",
   "nbconvert_exporter": "python",
   "pygments_lexer": "ipython3",
   "version": "3.7.3"
  }
 },
 "nbformat": 4,
 "nbformat_minor": 2
}
