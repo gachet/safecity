{
 "cells": [
  {
   "cell_type": "code",
   "execution_count": 1,
   "metadata": {},
   "outputs": [],
   "source": [
    "import gmaps\n",
    "import gmaps.heatmap\n",
    "\n",
    "import os\n",
    "import random\n",
    "import math\n",
    "import numpy as np\n",
    "\n",
    "import matplotlib.pyplot as plt\n",
    "import seaborn as sns\n",
    "\n",
    "from dotenv import load_dotenv, find_dotenv\n",
    "import requests"
   ]
  },
  {
   "cell_type": "markdown",
   "metadata": {},
   "source": [
    "### Retrieve Google API Key"
   ]
  },
  {
   "cell_type": "code",
   "execution_count": 2,
   "metadata": {},
   "outputs": [],
   "source": [
    "load_dotenv(find_dotenv())\n",
    "API_KEY = os.getenv(\"API_KEY\")\n",
    "gmaps.configure(api_key=API_KEY)"
   ]
  },
  {
   "cell_type": "markdown",
   "metadata": {},
   "source": [
    "### Utility Functions\n",
    "\n",
    "The following section provies utility functions to:\n",
    "\n",
    "* `get_boundaries` Get latitude, longitude boundaries given a centre coordinate and a radius\n",
    "* `get_grid_points` Get evenly spaced coodinates given lat, lon boundaries and granularity (offset in meters)\n",
    "* `generate_points` Randomly generate coordinate locations given the boundaries\n",
    "* `generate_weights` Randomly generate weights for each coordinate location\n",
    "* `create_heatmap` Render a heatmap given centre, safe places, location hotspots, weights, and max intensity"
   ]
  },
  {
   "cell_type": "code",
   "execution_count": 3,
   "metadata": {},
   "outputs": [],
   "source": [
    "def get_boundaries(centre, radius=2):\n",
    "    \"\"\"\n",
    "    Given a centre coordinate and specified radius (in km)\n",
    "    generate a bounding box of lat, lon\n",
    "    \"\"\"\n",
    "    R_EARTH = 6_378\n",
    "    lat, lon = centre\n",
    "    \n",
    "    lat_high = lat  + (radius / R_EARTH) * (180 / math.pi)\n",
    "    lat_low = lat - (radius / R_EARTH) * (180 / math.pi)\n",
    "    \n",
    "    lon_high = lon + (radius / R_EARTH ) * (180 / math.pi) / math.cos(lat * math.pi/180)\n",
    "    lon_low = lon - (radius / R_EARTH ) * (180 / math.pi) / math.cos(lat * math.pi/180)\n",
    "    \n",
    "    return ((lat_low, lat_high), (lon_low, lon_high))"
   ]
  },
  {
   "cell_type": "code",
   "execution_count": 4,
   "metadata": {},
   "outputs": [],
   "source": [
    "def get_grid_points(boundaries, granularity=20):\n",
    "    \"\"\"\n",
    "    Retrieve an lat, lon coordinates given boundaries and granularity (in meters)\n",
    "    \"\"\"\n",
    "    R_EARTH = 6_378\n",
    "    \n",
    "    lat_bound, lon_bound = boundaries\n",
    "    \n",
    "    lat_diff = ((granularity / 1000) / R_EARTH) * (180 / math.pi)\n",
    "        \n",
    "    start_lat, end_lat = lat_bound\n",
    "    lat_points = [start_lat]\n",
    "    while end_lat > start_lat:\n",
    "        start_lat += lat_diff\n",
    "        lat_points.append(start_lat)\n",
    "        \n",
    "    def get_lon_diff(lat_):\n",
    "        return ((granularity / 1000) / R_EARTH) * (180 / math.pi) / cos(lat_ * pi/180)\n",
    "    \n",
    "    lon_diffs = [get_lon_diff(i) for i in lat_points]\n",
    "    \n",
    "    start_lon, end_lon = lon_bound\n",
    "    lon_points = [start_lon]\n",
    "    lon_diffs_num = 0\n",
    "    while end_lon > start_lon:\n",
    "        start_lon += lon_diffs[lon_diffs_num]\n",
    "        lon_points.append(start_lon)\n",
    "        lon_diffs_num += 1\n",
    "        \n",
    "    return list(zip(lat_points, lon_points))"
   ]
  },
  {
   "cell_type": "code",
   "execution_count": 5,
   "metadata": {},
   "outputs": [],
   "source": [
    "def generate_points(boundaries, num_points):\n",
    "    \"\"\"\n",
    "    Randomly generate points given boundaries\n",
    "    \"\"\"\n",
    "    lat_bound, lon_bound = boundaries\n",
    "        \n",
    "    return [(random.uniform(*lat_bound), random.uniform(*lon_bound))\n",
    "            for i in range(num_points)]"
   ]
  },
  {
   "cell_type": "code",
   "execution_count": 6,
   "metadata": {},
   "outputs": [],
   "source": [
    "def generate_weights(num_points):\n",
    "    \"\"\"\n",
    "    Randomly generate weights\n",
    "    \"\"\"\n",
    "    return [random.random() for i in range(num_points)]"
   ]
  },
  {
   "cell_type": "code",
   "execution_count": 7,
   "metadata": {},
   "outputs": [],
   "source": [
    "def get_places(location, radius, typ, keyword, open_now=True):\n",
    "    \"\"\"\n",
    "    Retrieve from Google Maps Directions API, nearest location based on type and keyword\n",
    "    \"\"\"\n",
    "    lat, lon = location\n",
    "    \n",
    "    req_url = ('https://maps.googleapis.com/maps/api/place/nearbysearch/json?location={},{}&radius={}&type={}&keyword={}&opennow={}&key={}'\n",
    "               .format(lat, lon, radius, typ, keyword, open_now, API_KEY))\n",
    "    \n",
    "    response_dict = requests.get(req_url).json()\n",
    "\n",
    "    nearby_places = [{'name': entry['name'], 'coordinates': entry['geometry']['location']}\n",
    "                     for entry in response_dict['results'][:10]]\n",
    "    \n",
    "    return nearby_places"
   ]
  },
  {
   "cell_type": "code",
   "execution_count": 8,
   "metadata": {},
   "outputs": [],
   "source": [
    "def create_heatmap(centre, places, locations, weights, max_weight):\n",
    "    \"\"\"\n",
    "    Render heatmap of hotspots with directions to safespots\n",
    "    \"\"\"\n",
    "    fig = gmaps.figure()\n",
    "    heatmap = gmaps.heatmap_layer(locations, weights)\n",
    "    symbol_layer = gmaps.symbol_layer(locations)\n",
    "    places_symbol_layer = gmaps.symbol_layer(places)\n",
    "    \n",
    "    symbol_layer.markers = [gmaps.Symbol(location=centre, fill_color='red')]\n",
    "    places_symbol_layer.markers = [gmaps.Symbol(location=place, fill_color='blue') for place in places]\n",
    "    \n",
    "    heatmap.max_intensity = max_weight\n",
    "    heatmap.point_radius = 25\n",
    "    \n",
    "    fig.add_layer(heatmap)\n",
    "    fig.add_layer(symbol_layer)\n",
    "    fig.add_layer(places_symbol_layer)\n",
    "    \n",
    "    stroke_colors = ['aqua', 'olive', 'yellow', 'lime', 'red', 'black', 'green', 'blue', 'gray', 'fuschia']\n",
    "    directions = [gmaps.directions_layer(centre,\n",
    "                                         place, \n",
    "                                         stroke_color=stroke_colors[color_idx],\n",
    "                                         stroke_opacity=0.5,\n",
    "                                         travel_mode='WALKING')\n",
    "                  for color_idx, place in enumerate(places)]\n",
    "    \n",
    "    for direction in directions:\n",
    "        fig.add_layer(direction)\n",
    "    \n",
    "    return fig"
   ]
  },
  {
   "cell_type": "markdown",
   "metadata": {},
   "source": [
    "### Sample Run\n",
    "\n",
    "The following illustrates a trial run:\n",
    "* Define the centre as `19.069, 72.8777`, the actual centre of Mumbai\n",
    "* Define a radius of `2 km` around the centre\n",
    "* Randomly generate 200 coordinates and weights\n",
    "* Retrieve closest hospitals (safe spot) within a defined radius\n",
    "* Show directions to each hospital alongside the danger spots on Google Maps"
   ]
  },
  {
   "cell_type": "code",
   "execution_count": 9,
   "metadata": {
    "scrolled": true
   },
   "outputs": [
    {
     "data": {
      "application/vnd.jupyter.widget-view+json": {
       "model_id": "b003ca3f6e624d7c8d27c9f374135a87",
       "version_major": 2,
       "version_minor": 0
      },
      "text/plain": [
       "Figure(layout=FigureLayout(height='420px'))"
      ]
     },
     "metadata": {},
     "output_type": "display_data"
    }
   ],
   "source": [
    "centre = (19.069, 72.8777) # centre of Mumbai\n",
    "boundaries = get_boundaries(centre=centre)\n",
    "locations = generate_points(boundaries, 200)\n",
    "weights = generate_weights(200)\n",
    "\n",
    "places = get_places(centre, 1000, 'hospital', 'hospital')\n",
    "places = [(i['coordinates']['lat'], i['coordinates']['lng']) for i in places]\n",
    "create_heatmap(centre, places, locations, weights, 4)"
   ]
  },
  {
   "cell_type": "markdown",
   "metadata": {},
   "source": [
    "### Mapping Hotspots and Safespots from matrix\n",
    "\n",
    "The following section details mapping to a sample matrix of Mumbai from `Task 1` with danger levels generated to Google Maps"
   ]
  },
  {
   "cell_type": "code",
   "execution_count": 10,
   "metadata": {},
   "outputs": [],
   "source": [
    "# define boundaries for Mumbai\n",
    "D_MIN_LAT = 28.490665\n",
    "D_MAX_LAT = 28.75683\n",
    "\n",
    "D_MIN_LON = 77.017121\n",
    "D_MAX_LON = 77.339847"
   ]
  },
  {
   "cell_type": "code",
   "execution_count": 11,
   "metadata": {},
   "outputs": [],
   "source": [
    "def create_grid(file_name):\n",
    "    \"\"\"\n",
    "    Read in grid and flatten into 1D array\n",
    "    \"\"\"\n",
    "    grid = []\n",
    "    with open(file_name) as f:\n",
    "        for line in f.readlines():\n",
    "            grid.append(line.rstrip('\\n'))\n",
    "            \n",
    "    grid = np.array([row.split(',') for row in grid])\n",
    "    \n",
    "    return grid.astype(float)"
   ]
  },
  {
   "cell_type": "code",
   "execution_count": 12,
   "metadata": {},
   "outputs": [],
   "source": [
    "def get_coordinates(lat_min, lat_max, lon_min, lon_max, dimension):\n",
    "    \"\"\"\n",
    "    Get coordinates based on min, max boundaries and resolution (dimension)\n",
    "    Note: coordinates are not generated according to distance metric, as\n",
    "    they are evenly spaced lat, lon values based on dimension\n",
    "    \"\"\"\n",
    "    lat_diff = (lat_max - lat_min) / (dimension - 1)\n",
    "    lon_diff = (lon_max - lon_min) / (dimension - 1)\n",
    "    \n",
    "    lat_values = [lat_min + lat_diff * i for i in range(dimension)]\n",
    "    lon_values = [lon_min + lon_diff * i for i in range(dimension)]\n",
    "    \n",
    "    coordinates = [[(j, i) for i in lon_values] for j in lat_values][::-1]\n",
    "    \n",
    "    return [j for i in coordinates for j in i]"
   ]
  },
  {
   "cell_type": "code",
   "execution_count": 13,
   "metadata": {},
   "outputs": [],
   "source": [
    "def rescale(weights):\n",
    "    \"\"\"\n",
    "    Rescale weights to [0, 1] if needed\n",
    "    \"\"\"\n",
    "    return [(i - min(weights)) / (max(weights) - min(weights)) for i in weights]"
   ]
  },
  {
   "cell_type": "markdown",
   "metadata": {},
   "source": [
    "### Trial run of Heatmapping\n",
    "\n",
    "Here we test generating a heatmap on Mumbai and check the nearest hospitals to `28.65825037037037, 77.2561772962963` within `2 km`."
   ]
  },
  {
   "cell_type": "code",
   "execution_count": 14,
   "metadata": {
    "scrolled": true
   },
   "outputs": [
    {
     "data": {
      "application/vnd.jupyter.widget-view+json": {
       "model_id": "c85f23b1f3454d7daa2e1c60d94a923e",
       "version_major": 2,
       "version_minor": 0
      },
      "text/plain": [
       "Figure(layout=FigureLayout(height='420px'))"
      ]
     },
     "metadata": {},
     "output_type": "display_data"
    }
   ],
   "source": [
    "locations = get_coordinates(D_MIN_LAT, D_MAX_LAT, D_MIN_LON, D_MAX_LON, 28)\n",
    "weights = create_grid('sample_grid.csv').flatten()\n",
    "places = get_places(locations[300], 2000, 'hospital', 'hospital')\n",
    "places = [(i['coordinates']['lat'], i['coordinates']['lng']) for i in places]\n",
    "create_heatmap(locations[300], places, locations, weights, max(weights))"
   ]
  },
  {
   "cell_type": "code",
   "execution_count": 15,
   "metadata": {},
   "outputs": [
    {
     "data": {
      "text/plain": [
       "<matplotlib.axes._subplots.AxesSubplot at 0x7fbe304766a0>"
      ]
     },
     "execution_count": 15,
     "metadata": {},
     "output_type": "execute_result"
    },
    {
     "data": {
      "image/png": "[encoded data removed]",
      "text/plain": [
       "<Figure size 864x864 with 2 Axes>"
      ]
     },
     "metadata": {
      "needs_background": "light"
     },
     "output_type": "display_data"
    }
   ],
   "source": [
    "# validate heatmap looks correct using viz library\n",
    "plt.figure(figsize=(12, 12))\n",
    "sns.heatmap(create_grid('sample_grid.csv'), cmap='coolwarm')"
   ]
  },
  {
   "cell_type": "markdown",
   "metadata": {},
   "source": [
    "### Calculation of Safest Route\n",
    "\n",
    "The following sections details ways to recommend the safest route to a safespot given a lat, lon coordinate.\n",
    "\n",
    "Below are the various proposed methods:\n",
    "\n",
    "* **Method 1**: Safest route is determined by safest destination, whichever destination is closest to a coordinate that is the least dangerous\n",
    "\n",
    "* **Method 2**: Calculation based on weighted average of danger on the 'legs' of routes generated by `Directions API`; each leg has a starting and ending coordinate\n",
    "\n",
    "* **Method 3**: Calculation based on `Bresenham's line drawing` algorithm; create line segments for each leg of the a route and approximate the gridboxes that each leg segment passes through"
   ]
  },
  {
   "cell_type": "markdown",
   "metadata": {},
   "source": [
    "#### Method 1: Safest Destination"
   ]
  },
  {
   "cell_type": "code",
   "execution_count": 16,
   "metadata": {},
   "outputs": [
    {
     "data": {
      "text/plain": [
       "[{'name': 'Sabharwal Hospital',\n",
       "  'coordinates': {'lat': 28.6443783, 'lng': 77.2386641}},\n",
       " {'name': 'Khadija National Hospital',\n",
       "  'coordinates': {'lat': 28.6438065, 'lng': 77.2381575}},\n",
       " {'name': 'Jag Pravesh Chandra Hospital',\n",
       "  'coordinates': {'lat': 28.6762461, 'lng': 77.2629156}},\n",
       " {'name': 'Jain Charitable Hospital',\n",
       "  'coordinates': {'lat': 28.6649861, 'lng': 77.2699534}},\n",
       " {'name': 'Dehli Hospital',\n",
       "  'coordinates': {'lat': 28.6417933, 'lng': 77.2450101}},\n",
       " {'name': 'Vyas Charitable Hospital',\n",
       "  'coordinates': {'lat': 28.660889, 'lng': 77.268093}},\n",
       " {'name': 'Govind Ballabh Pant Hospital',\n",
       "  'coordinates': {'lat': 28.6393553, 'lng': 77.23503319999999}},\n",
       " {'name': 'Lok Nayak Hospital',\n",
       "  'coordinates': {'lat': 28.6390815, 'lng': 77.2376888}},\n",
       " {'name': 'Lok Nayak Hospital, Gynae Casualty',\n",
       "  'coordinates': {'lat': 28.6392445, 'lng': 77.23879880000001}},\n",
       " {'name': 'RS Grover Hospital',\n",
       "  'coordinates': {'lat': 28.6426051, 'lng': 77.2774488}}]"
      ]
     },
     "execution_count": 16,
     "metadata": {},
     "output_type": "execute_result"
    }
   ],
   "source": [
    "sample_places = get_places(locations[300], 2000, 'hospital', 'hospital')\n",
    "sample_places"
   ]
  },
  {
   "cell_type": "code",
   "execution_count": 17,
   "metadata": {},
   "outputs": [
    {
     "data": {
      "application/vnd.jupyter.widget-view+json": {
       "model_id": "fbe3edcaaae943979b8ace875ef3b184",
       "version_major": 2,
       "version_minor": 0
      },
      "text/plain": [
       "Figure(layout=FigureLayout(height='420px'))"
      ]
     },
     "metadata": {},
     "output_type": "display_data"
    }
   ],
   "source": [
    "create_heatmap(locations[300], [(place['coordinates']['lat'], place['coordinates']['lng']) for place in sample_places], locations, weights, max(weights))"
   ]
  },
  {
   "cell_type": "code",
   "execution_count": 18,
   "metadata": {},
   "outputs": [],
   "source": [
    "def calc_distance(a, b):\n",
    "    return math.sqrt((a[0] - b[0])**2 + (a[1] - b[1])**2)"
   ]
  },
  {
   "cell_type": "code",
   "execution_count": 19,
   "metadata": {},
   "outputs": [],
   "source": [
    "def find_nearest(coordinates, locations):\n",
    "    \"\"\"\n",
    "    Find nearest point given safespot coordinates\n",
    "    \"\"\"\n",
    "    lat, lon = coordinates\n",
    "    distances = [calc_distance((lat, lon), i) for i in locations]\n",
    "    \n",
    "    return np.where(np.array(distances) == np.amin(distances))[0][0]"
   ]
  },
  {
   "cell_type": "code",
   "execution_count": 20,
   "metadata": {},
   "outputs": [
    {
     "data": {
      "text/plain": [
       "300"
      ]
     },
     "execution_count": 20,
     "metadata": {},
     "output_type": "execute_result"
    }
   ],
   "source": [
    "find_nearest(locations[300], locations)"
   ]
  },
  {
   "cell_type": "code",
   "execution_count": 21,
   "metadata": {},
   "outputs": [
    {
     "name": "stdout",
     "output_type": "stream",
     "text": [
      "409 µs ± 46.6 µs per loop (mean ± std. dev. of 7 runs, 1000 loops each)\n"
     ]
    }
   ],
   "source": [
    "%timeit find_nearest(locations[300], locations)"
   ]
  },
  {
   "cell_type": "code",
   "execution_count": 22,
   "metadata": {},
   "outputs": [],
   "source": [
    "def find_best_spot(starting_point, places, danger_weights, locations):\n",
    "    \"\"\"\n",
    "    Given a starting point and list of safe spots and their respective danger weights,\n",
    "    find the best spot to go\n",
    "    \"\"\"\n",
    "    # calc and update distances\n",
    "    [place.update({'distance': calc_distance(starting_point,\n",
    "                                             (place['coordinates']['lat'],\n",
    "                                              place['coordinates']['lng']))}) for place in places]\n",
    "    \n",
    "    # calc weights\n",
    "    [place.update({'danger_score': danger_weights[\n",
    "        find_nearest(\n",
    "            (place['coordinates']['lat'],\n",
    "             place['coordinates']['lng']), locations)]}) for place in places]\n",
    "                                                           \n",
    "\n",
    "    return sorted(places, key=lambda x: (x['danger_score'], x['distance']))[0]"
   ]
  },
  {
   "cell_type": "code",
   "execution_count": 23,
   "metadata": {},
   "outputs": [
    {
     "name": "stdout",
     "output_type": "stream",
     "text": [
      "3.95 ms ± 191 µs per loop (mean ± std. dev. of 7 runs, 100 loops each)\n"
     ]
    }
   ],
   "source": [
    "# time to see how efficient\n",
    "%timeit find_best_spot(locations[300], sample_places, weights, locations)"
   ]
  },
  {
   "cell_type": "code",
   "execution_count": 24,
   "metadata": {},
   "outputs": [],
   "source": [
    "# best spot based on the 300th starting point\n",
    "best_spot = find_best_spot(locations[300], sample_places, weights, locations)"
   ]
  },
  {
   "cell_type": "code",
   "execution_count": 25,
   "metadata": {},
   "outputs": [
    {
     "data": {
      "text/plain": [
       "{'name': 'Jag Pravesh Chandra Hospital',\n",
       " 'coordinates': {'lat': 28.6762461, 'lng': 77.2629156},\n",
       " 'distance': 0.01921590543549743,\n",
       " 'danger_score': 1.0}"
      ]
     },
     "execution_count": 25,
     "metadata": {},
     "output_type": "execute_result"
    }
   ],
   "source": [
    "best_spot"
   ]
  },
  {
   "cell_type": "code",
   "execution_count": 26,
   "metadata": {},
   "outputs": [],
   "source": [
    "# get the best coordinates\n",
    "best_coordinates = best_spot['coordinates']['lat'], best_spot['coordinates']['lng']"
   ]
  },
  {
   "cell_type": "code",
   "execution_count": 27,
   "metadata": {},
   "outputs": [
    {
     "data": {
      "application/vnd.jupyter.widget-view+json": {
       "model_id": "c62a40b426c24201b5a1a06a8f904145",
       "version_major": 2,
       "version_minor": 0
      },
      "text/plain": [
       "Figure(layout=FigureLayout(height='420px'))"
      ]
     },
     "metadata": {},
     "output_type": "display_data"
    }
   ],
   "source": [
    "create_heatmap(locations[300], [best_coordinates], locations, weights, max(weights))"
   ]
  },
  {
   "cell_type": "code",
   "execution_count": 28,
   "metadata": {
    "scrolled": true
   },
   "outputs": [
    {
     "data": {
      "application/vnd.jupyter.widget-view+json": {
       "model_id": "b122d8e0dfe7490085fbf83404dd5483",
       "version_major": 2,
       "version_minor": 0
      },
      "text/plain": [
       "Figure(layout=FigureLayout(height='420px'))"
      ]
     },
     "metadata": {},
     "output_type": "display_data"
    }
   ],
   "source": [
    "# another example\n",
    "sample_places = get_places(locations[350], 2000, 'hospital', 'hospital')\n",
    "sample_places_c = [(i['coordinates']['lat'], i['coordinates']['lng']) for i in sample_places]\n",
    "create_heatmap(locations[350], sample_places_c, locations, weights, max(weights))"
   ]
  },
  {
   "cell_type": "code",
   "execution_count": 29,
   "metadata": {},
   "outputs": [
    {
     "data": {
      "application/vnd.jupyter.widget-view+json": {
       "model_id": "8fd2507f7a76464686cb939370fce3e3",
       "version_major": 2,
       "version_minor": 0
      },
      "text/plain": [
       "Figure(layout=FigureLayout(height='420px'))"
      ]
     },
     "metadata": {},
     "output_type": "display_data"
    }
   ],
   "source": [
    "# in this case, the best route is the one furthest from the danger spots\n",
    "best_spot = find_best_spot(locations[350], sample_places, weights, locations)\n",
    "best_coordinates = best_spot['coordinates']['lat'], best_spot['coordinates']['lng']\n",
    "create_heatmap(locations[350], [best_coordinates], locations, weights, max(weights))"
   ]
  },
  {
   "cell_type": "markdown",
   "metadata": {},
   "source": [
    "#### Method 2: Safest Route based on Weighted `Steps`"
   ]
  },
  {
   "cell_type": "code",
   "execution_count": 30,
   "metadata": {},
   "outputs": [],
   "source": [
    "def get_route(starting_point, dest_point):\n",
    "    \"\"\"\n",
    "    Get the ending lat, lon steps for each route given starting and destination coordinates\n",
    "    \"\"\"\n",
    "    \n",
    "    request_url = ('https://maps.googleapis.com/maps/api/directions/'\n",
    "    + 'json?origin={}&destination={}&mode=walking&key={}').format(','.join(map(str,starting_point)),\n",
    "                                                                   ','.join(map(str,dest_point)),\n",
    "                                                                   API_KEY)\n",
    "    \n",
    "    response = requests.get(request_url).json()['routes'][0]['legs'][0]\n",
    "\n",
    "    return_dct = {'total_distance': response['distance']['value']}\n",
    "    \n",
    "    return_dct.update({'steps': [{'start': step['start_location'],\n",
    "                                  'end': step['end_location']} for step in response['steps']]})\n",
    "    \n",
    "    return return_dct"
   ]
  },
  {
   "cell_type": "code",
   "execution_count": 31,
   "metadata": {},
   "outputs": [],
   "source": [
    "def compute_weighted_danger(routes, locations):\n",
    "    \"\"\"\n",
    "    Compute danger for each ending lat, lon coordinate for each route\n",
    "    \"\"\"\n",
    "    steps = [(step['end']['lat'], step['end']['lng']) for step in routes['steps']]\n",
    "    nearest_coordinates = [find_nearest(step, locations) for step in steps]\n",
    "    \n",
    "    return np.mean([weights[idx] for idx in nearest_coordinates])"
   ]
  },
  {
   "cell_type": "code",
   "execution_count": 32,
   "metadata": {},
   "outputs": [],
   "source": [
    "def sort_routes(routes):\n",
    "    \"\"\"\n",
    "    Return routes list sorted first by danger, then by distance\n",
    "    \"\"\"\n",
    "    [route.update({'danger' : compute_weighted_danger(route, locations)}) for route in routes]\n",
    "    return sorted(routes, key = lambda x: (x['danger'], x['total_distance']))"
   ]
  },
  {
   "cell_type": "code",
   "execution_count": 33,
   "metadata": {},
   "outputs": [],
   "source": [
    "places = get_places(locations[350], 2000, 'hospital', 'hospital')\n",
    "places = [(i['coordinates']['lat'], i['coordinates']['lng']) for i in places]\n",
    "routes = [get_route(locations[350], place) for place in places]"
   ]
  },
  {
   "cell_type": "code",
   "execution_count": 34,
   "metadata": {},
   "outputs": [
    {
     "data": {
      "application/vnd.jupyter.widget-view+json": {
       "model_id": "ba5c61d01aec4be5b9dadf9de6754ea2",
       "version_major": 2,
       "version_minor": 0
      },
      "text/plain": [
       "Figure(layout=FigureLayout(height='420px'))"
      ]
     },
     "metadata": {},
     "output_type": "display_data"
    }
   ],
   "source": [
    "# same example based on location #350 for nearest hospitals\n",
    "sample_places = get_places(locations[350], 2000, 'hospital', 'hospital')\n",
    "sample_places_c = [(i['coordinates']['lat'], i['coordinates']['lng']) for i in sample_places]\n",
    "create_heatmap(locations[350], sample_places_c, locations, weights, max(weights))"
   ]
  },
  {
   "cell_type": "code",
   "execution_count": 35,
   "metadata": {},
   "outputs": [
    {
     "data": {
      "application/vnd.jupyter.widget-view+json": {
       "model_id": "02fd7e8092644baaaedc773e9468d95f",
       "version_major": 2,
       "version_minor": 0
      },
      "text/plain": [
       "Figure(layout=FigureLayout(height='420px'))"
      ]
     },
     "metadata": {},
     "output_type": "display_data"
    }
   ],
   "source": [
    "# retrieve the top ranked best route\n",
    "best_route = sort_routes(routes)[0]\n",
    "\n",
    "# get coordinates of last ending point\n",
    "best_coordinates = (best_route['steps'][-1]['end']['lat'], best_route['steps'][-1]['end']['lng'])\n",
    "\n",
    "# show directions on heatmap of best route\n",
    "create_heatmap(locations[350], [best_coordinates], locations, weights, max(weights))"
   ]
  },
  {
   "cell_type": "code",
   "execution_count": 36,
   "metadata": {},
   "outputs": [
    {
     "name": "stdout",
     "output_type": "stream",
     "text": [
      "1.62 s ± 163 ms per loop (mean ± std. dev. of 7 runs, 1 loop each)\n",
      "40.9 ms ± 3.22 ms per loop (mean ± std. dev. of 7 runs, 10 loops each)\n"
     ]
    }
   ],
   "source": [
    "# timing Method 2:\n",
    "%timeit routes = [get_route(locations[350], place) for place in places]\n",
    "%timeit best_route = sort_routes(routes)[0]"
   ]
  },
  {
   "cell_type": "markdown",
   "metadata": {},
   "source": [
    "#### Method 3: Grid Coverage using Bresenham's Algorithm (from skimage package)"
   ]
  },
  {
   "cell_type": "markdown",
   "metadata": {},
   "source": [
    "Details for the `Bresenham line drawing algorithm` can be found [here](https://en.wikipedia.org/wiki/Bresenham%27s_line_algorithm). \n",
    "\n",
    "The general idea behind this algorithm is given a starting endpoint of a line segment, the next grids (or pixels) it traverses to the other endpoint is determined in step-wise fashion by evaluating the midpoint between the each subsequent possible grid points. \n",
    "\n",
    "See below for a quick illustration of the idea:\n",
    "\n",
    "![illustration of algo](https://qph.fs.quoracdn.net/main-qimg-8ebc51acd952f817f96600a78e0856cc)\n",
    "\n",
    "**Illustration Explained**:\n",
    "\n",
    "* Here, assume the points actually refer to each pixel for simplicity (the points _are not_ the actual boundaries for a gridbox but the box itself).\n",
    "* Assume we have a line spanning from left to right in upward slope fashion (smaller `(x, y)` to larger `(x, y)` coordinates). Let's also say that the initial gridbox **`P`** is shaded and has already been determined to be traversed through. \n",
    "* Consider point **`P`** has the previous gridbox, we then need to determine the current gridbox to be shaded and for that we need to consider the gridboxes **`E`** and **`NE`** (for _east_ and _northeast_ of the current gridbox, respectively).\n",
    "* **`M`** is the midpoint between **`E`** and **`NE`**. \n",
    "* Based on where the _line_ intersects between **`E`** and **`NE`** and the position of **`M`** relative to that point of intersection (above or below **`M`** ), we can make a decision on the current gridbox that the line traverses through, which is **`NE`** in this case as the line intersects above **`M`**.\n",
    "* The gridboxes **`E`** and **`NE`** (and consequently, **`M`**) are then updated relative to the current gridbox and the calculations are performed again and again until we reach the end of the line segment\n",
    "\n",
    "For simipicity, the above demonstration assumes that the line passes through in the `1st octant`, that is - the line has a positive slope of [0, 1]. However the algorithm can be generalized for all magnitude of slopes.\n",
    "\n",
    "Below is the end output illustration of `Bresenham's algorithm`:\n",
    "![gridbox shaded](https://qph.fs.quoracdn.net/main-qimg-260a0623b3a83171c463d1377fdc7aa7.webp)\n",
    "\n",
    "Now we use `skimage` package to draw a line as it implements this algorithm:"
   ]
  },
  {
   "cell_type": "code",
   "execution_count": 37,
   "metadata": {},
   "outputs": [],
   "source": [
    "from skimage.draw import line"
   ]
  },
  {
   "cell_type": "code",
   "execution_count": 38,
   "metadata": {},
   "outputs": [
    {
     "data": {
      "text/plain": [
       "array([[0., 0., 0., 0., 0., 0., 0., 0., 0., 0.],\n",
       "       [0., 0., 0., 0., 0., 0., 0., 0., 0., 0.],\n",
       "       [0., 0., 0., 0., 0., 0., 0., 0., 0., 0.],\n",
       "       [0., 0., 0., 0., 0., 0., 0., 0., 0., 0.],\n",
       "       [0., 0., 0., 0., 0., 0., 0., 0., 0., 0.],\n",
       "       [0., 0., 0., 0., 0., 0., 0., 0., 0., 0.],\n",
       "       [0., 0., 0., 0., 0., 0., 0., 0., 0., 0.],\n",
       "       [0., 0., 0., 0., 0., 0., 0., 0., 0., 0.],\n",
       "       [0., 0., 0., 0., 0., 0., 0., 0., 0., 0.],\n",
       "       [0., 0., 0., 0., 0., 0., 0., 0., 0., 0.]])"
      ]
     },
     "execution_count": 38,
     "metadata": {},
     "output_type": "execute_result"
    }
   ],
   "source": [
    "# sample example\n",
    "example = np.zeros((10, 10))\n",
    "example"
   ]
  },
  {
   "cell_type": "code",
   "execution_count": 39,
   "metadata": {},
   "outputs": [
    {
     "data": {
      "text/plain": [
       "array([[0., 0., 0., 0., 0., 0., 0., 0., 0., 0.],\n",
       "       [0., 1., 0., 0., 0., 0., 0., 0., 0., 0.],\n",
       "       [0., 0., 1., 0., 0., 0., 0., 0., 0., 0.],\n",
       "       [0., 0., 0., 1., 0., 0., 0., 0., 0., 0.],\n",
       "       [0., 0., 0., 1., 0., 0., 0., 0., 0., 0.],\n",
       "       [0., 0., 0., 0., 1., 0., 0., 0., 0., 0.],\n",
       "       [0., 0., 0., 0., 0., 1., 0., 0., 0., 0.],\n",
       "       [0., 0., 0., 0., 0., 0., 1., 0., 0., 0.],\n",
       "       [0., 0., 0., 0., 0., 0., 1., 0., 0., 0.],\n",
       "       [0., 0., 0., 0., 0., 0., 0., 1., 0., 0.]])"
      ]
     },
     "execution_count": 39,
     "metadata": {},
     "output_type": "execute_result"
    }
   ],
   "source": [
    "# specify coordinates for line\n",
    "x0, y0 = 1,1\n",
    "x1, y1 = 7,9\n",
    "rr, cc = line(y0, x0, y1, x1)\n",
    "example[rr, cc] = 1\n",
    "example"
   ]
  },
  {
   "cell_type": "code",
   "execution_count": 40,
   "metadata": {},
   "outputs": [
    {
     "data": {
      "text/plain": [
       "[<matplotlib.lines.Line2D at 0x7fbe295fd2e8>]"
      ]
     },
     "execution_count": 40,
     "metadata": {},
     "output_type": "execute_result"
    },
    {
     "data": {
      "image/png": "[encoded data removed]",
      "text/plain": [
       "<Figure size 576x576 with 1 Axes>"
      ]
     },
     "metadata": {
      "needs_background": "light"
     },
     "output_type": "display_data"
    }
   ],
   "source": [
    "# plot the shaded gridbox, notice how note all gridboxes passed are shaded\n",
    "plt.figure(figsize=(8,8))\n",
    "plt.imshow(example, interpolation='nearest', cmap='viridis')\n",
    "plt.plot([x0, x1],[y0, y1], linewidth = 2, color = 'r', )"
   ]
  },
  {
   "cell_type": "code",
   "execution_count": 41,
   "metadata": {},
   "outputs": [
    {
     "data": {
      "application/vnd.jupyter.widget-view+json": {
       "model_id": "896bc0479e924f798c828da59a45083c",
       "version_major": 2,
       "version_minor": 0
      },
      "text/plain": [
       "Figure(layout=FigureLayout(height='420px'))"
      ]
     },
     "metadata": {},
     "output_type": "display_data"
    }
   ],
   "source": [
    "# show directions on heatmap of best route\n",
    "start_coordinates = locations[350]\n",
    "start_location = 350\n",
    "end_coordinates = 28.608534444444446, 77.11446040740741\n",
    "create_heatmap(locations[350], [start_coordinates, end_coordinates], locations, weights, max(weights))"
   ]
  },
  {
   "cell_type": "code",
   "execution_count": 42,
   "metadata": {},
   "outputs": [],
   "source": [
    "end_location = find_nearest((end_coordinates), locations)\n",
    "x0, y0 = start_location % 28, start_location // 28\n",
    "x1, y1 = end_location % 28, end_location // 28"
   ]
  },
  {
   "cell_type": "code",
   "execution_count": 43,
   "metadata": {},
   "outputs": [
    {
     "data": {
      "text/plain": [
       "[<matplotlib.lines.Line2D at 0x7fbe4988ba20>]"
      ]
     },
     "execution_count": 43,
     "metadata": {},
     "output_type": "execute_result"
    },
    {
     "data": {
      "image/png": "[encoded data removed]",
      "text/plain": [
       "<Figure size 720x720 with 2 Axes>"
      ]
     },
     "metadata": {
      "needs_background": "light"
     },
     "output_type": "display_data"
    }
   ],
   "source": [
    "# plot start & end points\n",
    "plt.figure(figsize=(10,10))\n",
    "sns.heatmap(weights.reshape(28,28), cmap='coolwarm')\n",
    "plt.plot([x0, x1], [y0, y1], 'ko', markersize=4)"
   ]
  },
  {
   "cell_type": "code",
   "execution_count": 44,
   "metadata": {},
   "outputs": [],
   "source": [
    "route_bresenham = get_route(start_coordinates, end_coordinates)['steps']\n",
    "steps_bresenham = [find_nearest((step['end']['lat'], step['end']['lng']), locations) for step in route_bresenham]\n",
    "steps_bresenham.insert(0, start_location) # ensure starting point is in steps"
   ]
  },
  {
   "cell_type": "code",
   "execution_count": 45,
   "metadata": {},
   "outputs": [],
   "source": [
    "# set operation is unordered, retain the same order from before\n",
    "interpolated_routes = sorted(set(steps_bresenham),key=steps_bresenham.index)"
   ]
  },
  {
   "cell_type": "code",
   "execution_count": 46,
   "metadata": {},
   "outputs": [],
   "source": [
    "# map from 1D to 2D\n",
    "x_ = [i % 28 for i in interpolated_routes]\n",
    "y_ = [i // 28 for i in interpolated_routes]"
   ]
  },
  {
   "cell_type": "code",
   "execution_count": 47,
   "metadata": {},
   "outputs": [
    {
     "data": {
      "text/plain": [
       "[<matplotlib.lines.Line2D at 0x7fbe1860ccc0>]"
      ]
     },
     "execution_count": 47,
     "metadata": {},
     "output_type": "execute_result"
    },
    {
     "data": {
      "image/png": "[encoded data removed]",
      "text/plain": [
       "<Figure size 720x720 with 2 Axes>"
      ]
     },
     "metadata": {
      "needs_background": "light"
     },
     "output_type": "display_data"
    }
   ],
   "source": [
    "# plot start & end points\n",
    "plt.figure(figsize=(10,10))\n",
    "sns.heatmap(weights.reshape(28,28), cmap='coolwarm')\n",
    "plt.plot(x_, y_, 'ko-')"
   ]
  },
  {
   "cell_type": "code",
   "execution_count": 48,
   "metadata": {},
   "outputs": [
    {
     "data": {
      "text/plain": [
       "[<matplotlib.lines.Line2D at 0x7fbe58b8dd30>]"
      ]
     },
     "execution_count": 48,
     "metadata": {},
     "output_type": "execute_result"
    },
    {
     "data": {
      "image/png": "[encoded data removed]",
      "text/plain": [
       "<Figure size 720x720 with 1 Axes>"
      ]
     },
     "metadata": {
      "needs_background": "light"
     },
     "output_type": "display_data"
    }
   ],
   "source": [
    "# works better wheach step spans more than 1 gridbox \n",
    "# as each gridbox is ~920m - rare to have each step longer than that\n",
    "arr = np.zeros((28, 28))\n",
    "rr, cc = line(y_[0], x_[0], y_[5], x_[5])\n",
    "arr[rr, cc] = 1\n",
    "plt.figure(figsize=(10, 10))\n",
    "plt.imshow(arr)\n",
    "plt.plot([x_[0], x_[5]], [y_[0], y_[5]] , linewidth=2, color='black')"
   ]
  },
  {
   "cell_type": "markdown",
   "metadata": {},
   "source": [
    "#### Method 4: `supercover`\n",
    "\n",
    "This method is an extension of the `Bresenham's line drawing` algorithm and has full gridbox coverage:"
   ]
  },
  {
   "cell_type": "code",
   "execution_count": 49,
   "metadata": {},
   "outputs": [],
   "source": [
    "def supercover(y0, x0, y1, x1):\n",
    "    \"\"\"\n",
    "    Supercover algorithm\n",
    "    \"\"\"\n",
    "    \n",
    "    dx = abs(x1 - x0)\n",
    "    dy = abs(y1 - y0)\n",
    "    \n",
    "    starting_x = x0\n",
    "    starting_y = y0\n",
    "    \n",
    "    step = 0\n",
    "    total_change = dx + dy\n",
    "    err = dx - dy\n",
    "    x_inc = 1\n",
    "    y_inc = 1\n",
    "    \n",
    "    max_length = (max(dx, dy) + 1) * 3\n",
    "    rr = np.zeros(max_length)\n",
    "    cc = np.zeros(max_length)\n",
    "    \n",
    "    if x1 > x0:\n",
    "        x_inc = 1\n",
    "    else:\n",
    "        x_inc = -1\n",
    "    \n",
    "    if y1 > y0:\n",
    "        y_inc = 1\n",
    "    else:\n",
    "        x_inc = -1\n",
    "        \n",
    "    dx = 2 * dx\n",
    "    dy = 2 * dy\n",
    "    \n",
    "    while total_change > 0:\n",
    "        rr[step] = starting_y\n",
    "        cc[step] = starting_x\n",
    "        step += 1\n",
    "        if (err > 0):\n",
    "            starting_x += x_inc\n",
    "            err -= dy\n",
    "        elif (err < 0):\n",
    "            starting_y += y_inc\n",
    "            err += dx\n",
    "        else: # corner edge case\n",
    "            rr[step] = starting_y + y_inc\n",
    "            cc[step] = staring_x\n",
    "            rr[step + 1] = starting_y\n",
    "            cc[step + 1] = starting_x + x_inc\n",
    "            step = step + 2\n",
    "            \n",
    "            starting_x += x_inc\n",
    "            starting_y += y_inc\n",
    "            \n",
    "            err = err + dx - dy\n",
    "            \n",
    "            total_change = total_change - 1\n",
    "        total_change = total_change - 1 \n",
    "    rr[step] = starting_y\n",
    "    cc[step] = starting_x\n",
    "        \n",
    "    return np.array(rr[:step + 1]).astype(int), np.array(cc[:step + 1]).astype(int)\n",
    "    "
   ]
  },
  {
   "cell_type": "code",
   "execution_count": 50,
   "metadata": {
    "scrolled": false
   },
   "outputs": [
    {
     "data": {
      "text/plain": [
       "[<matplotlib.lines.Line2D at 0x7fbe58bc1f98>]"
      ]
     },
     "execution_count": 50,
     "metadata": {},
     "output_type": "execute_result"
    },
    {
     "data": {
      "image/png": "[encoded data removed]",
      "text/plain": [
       "<Figure size 720x720 with 1 Axes>"
      ]
     },
     "metadata": {
      "needs_background": "light"
     },
     "output_type": "display_data"
    }
   ],
   "source": [
    "# green boxes are the covered boxes not completed by Bresenham\n",
    "arr = np.zeros((28, 28))\n",
    "rr, cc = line(y_[0], x_[0], y_[8], x_[8])\n",
    "rr1, cc1 = supercover(y_[0], x_[0], y_[8], x_[8])\n",
    "arr[rr, cc] = 1\n",
    "arr[rr1, cc1] += 1\n",
    "plt.figure(figsize=(10, 10))\n",
    "plt.imshow(arr)\n",
    "plt.plot([x_[0], x_[8]], [y_[0], y_[8]] , linewidth=2, color='black')"
   ]
  }
 ],
 "metadata": {
  "kernelspec": {
   "display_name": "Python 3",
   "language": "python",
   "name": "python3"
  },
  "language_info": {
   "codemirror_mode": {
    "name": "ipython",
    "version": 3
   },
   "file_extension": ".py",
   "mimetype": "text/x-python",
   "name": "python",
   "nbconvert_exporter": "python",
   "pygments_lexer": "ipython3",
   "version": "3.7.3"
  }
 },
 "nbformat": 4,
 "nbformat_minor": 2
}
