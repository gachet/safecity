{
 "cells": [
  {
   "cell_type": "markdown",
   "metadata": {},
   "source": [
    "# Omdena Safecity Challenge #\n",
    "\n",
    "### Author: Angelo Antonio Manzatto ###\n",
    "\n",
    "--------------\n",
    "## Problem Statement ##\n",
    "\n",
    "Safecity gets hundreds of data points about crime and harassment rate about any geographical area through reports, audits and tips. We also have multiple data points about nearby police station, hospitals, toilets, quality of street lights about an area.\n",
    "\n",
    "--------------\n",
    "\n",
    "##  Expectation ##\n",
    "\n",
    "The module should help in **clustering geography into heatmap of safe and unsafe**. The areas can be color-coded based on the difference in their safety level based on reports density, quality of issues, external data. It can also find similar areas in other parts of the world and help in taking preventive action.\n",
    "\n",
    "--------------\n",
    "\n",
    "## Proposed Solution ##\n",
    "\n",
    "Build **machine learning models** capable of predicting a heatmap that clusters an already pre stablished region into different levels of safety. \n",
    "\n",
    "--------------\n",
    "\n",
    "## Target Maps ##\n",
    "\n",
    "For this project Delhi and Mumbai cities were selected as target because most of the dataset avaliable for this project is located on those places.\n",
    "\n",
    "![selected maps](images/selected_maps.png)"
   ]
  },
  {
   "cell_type": "markdown",
   "metadata": {},
   "source": [
    "# Problem Definitions #\n",
    "\n",
    "It is important to understand what a heatmap is before jumping into coding. According to the Oxford dictionary heatmap is *A graphical representation of data in which a spectrum of colours is used to represent the different values*.\n",
    "\n",
    "For us *graphical representation* will be expressed in a form of a grid matrix layed on top of a region in a map and the different colors will represent the risk intensity for women to suffer any kind of crime on that area.\n",
    "\n",
    "Below is an example of a heatmap showing different crime intensity regions on Delhi in a certain moment. The black **dots** represents crimes that happend on that day.\n",
    "\n",
    "![delhi_heatmap_prediction](images/delhi_heatmap_prediction.png)\n",
    "\n",
    "Heatmaps are just pictures in time that represents a particular state of a certain situations. They vary from period to period and a scenario in the past is not necessarily the same in the present. That is one of the reasons we have to look at heatmap prediction challenge as a 3D problem. \n",
    "\n",
    "Looking at a heatmap from above we just see the 2D dimension, also called **Spatial Dimension**, but we also need to look how they change over time, the **Temporal Dimension**\n"
   ]
  },
  {
   "cell_type": "markdown",
   "metadata": {},
   "source": [
    "# Spatial Dimension #\n",
    "\n",
    "On the spatial dimension we decide the best resolution that we divide our map into a grid.\n",
    "\n",
    "![spatial_dimension](images/spatial_dimension.png)\n",
    "\n"
   ]
  },
  {
   "cell_type": "markdown",
   "metadata": {},
   "source": [
    "# Temporal Dimension #\n",
    "\n",
    "On the temporal dimension we decide the time granularity that we group the incidents in a heatmap. They can stacked in hours, days, months and so on. \n",
    "\n",
    "![temporal_dimension](images/temporal_dimension.png)"
   ]
  },
  {
   "cell_type": "code",
   "execution_count": 28,
   "metadata": {},
   "outputs": [],
   "source": [
    "##################################################################################\n",
    "# Libraries\n",
    "##################################################################################  \n",
    "import os\n",
    "import random\n",
    "from datetime import timedelta  \n",
    "\n",
    "import numpy as np\n",
    "\n",
    "import pandas as pd\n",
    "\n",
    "import matplotlib.pyplot as plt\n",
    "\n",
    "from utils import create_idx, find_best_bounding_map \n",
    "from utils import evaluate_model, find_percentiles\n",
    "from utils import billinear_interpolation\n",
    "\n",
    "from keras.models import Model\n",
    "\n",
    "from keras.layers import Input, Dropout\n",
    "from keras.layers import BatchNormalization\n",
    "from keras.layers import Conv3D, ConvLSTM2D, MaxPooling3D\n",
    "\n",
    "import keras.backend as K\n",
    "\n",
    "from keras.callbacks import ModelCheckpoint, CSVLogger, EarlyStopping\n",
    "\n",
    "from keras.optimizers import Adam\n",
    "\n",
    "np.random.seed(42) # My nickname Recruta42\n"
   ]
  },
  {
   "cell_type": "code",
   "execution_count": 2,
   "metadata": {},
   "outputs": [
    {
     "data": {
      "text/html": [
       "<div>\n",
       "<style scoped>\n",
       "    .dataframe tbody tr th:only-of-type {\n",
       "        vertical-align: middle;\n",
       "    }\n",
       "\n",
       "    .dataframe tbody tr th {\n",
       "        vertical-align: top;\n",
       "    }\n",
       "\n",
       "    .dataframe thead th {\n",
       "        text-align: right;\n",
       "    }\n",
       "</style>\n",
       "<table border=\"1\" class=\"dataframe\">\n",
       "  <thead>\n",
       "    <tr style=\"text-align: right;\">\n",
       "      <th></th>\n",
       "      <th>incident</th>\n",
       "      <th>latitude</th>\n",
       "      <th>longitude</th>\n",
       "    </tr>\n",
       "  </thead>\n",
       "  <tbody>\n",
       "    <tr>\n",
       "      <th>0</th>\n",
       "      <td>2019-09-04 17:00:00</td>\n",
       "      <td>28.527926</td>\n",
       "      <td>77.220591</td>\n",
       "    </tr>\n",
       "    <tr>\n",
       "      <th>1</th>\n",
       "      <td>2018-01-10 19:00:00</td>\n",
       "      <td>28.643303</td>\n",
       "      <td>77.179705</td>\n",
       "    </tr>\n",
       "    <tr>\n",
       "      <th>2</th>\n",
       "      <td>2018-06-30 16:00:00</td>\n",
       "      <td>28.632986</td>\n",
       "      <td>77.219374</td>\n",
       "    </tr>\n",
       "    <tr>\n",
       "      <th>3</th>\n",
       "      <td>2018-08-07 19:00:00</td>\n",
       "      <td>28.683396</td>\n",
       "      <td>77.208465</td>\n",
       "    </tr>\n",
       "    <tr>\n",
       "      <th>4</th>\n",
       "      <td>2018-03-06 19:00:00</td>\n",
       "      <td>28.680459</td>\n",
       "      <td>77.215037</td>\n",
       "    </tr>\n",
       "  </tbody>\n",
       "</table>\n",
       "</div>"
      ],
      "text/plain": [
       "              incident   latitude  longitude\n",
       "0  2019-09-04 17:00:00  28.527926  77.220591\n",
       "1  2018-01-10 19:00:00  28.643303  77.179705\n",
       "2  2018-06-30 16:00:00  28.632986  77.219374\n",
       "3  2018-08-07 19:00:00  28.683396  77.208465\n",
       "4  2018-03-06 19:00:00  28.680459  77.215037"
      ]
     },
     "execution_count": 2,
     "metadata": {},
     "output_type": "execute_result"
    }
   ],
   "source": [
    "############################################################################################\n",
    "# Load Dataset\n",
    "############################################################################################\n",
    "dataset_folder = 'dataset'\n",
    "\n",
    "dataset_file = os.path.join(dataset_folder,'SafetyDelhi.csv')\n",
    "\n",
    "df = pd.read_csv(dataset_file)\n",
    "\n",
    "df.head()"
   ]
  },
  {
   "cell_type": "markdown",
   "metadata": {},
   "source": [
    "## Data Cleaning ##"
   ]
  },
  {
   "cell_type": "code",
   "execution_count": 3,
   "metadata": {},
   "outputs": [
    {
     "data": {
      "text/html": [
       "<div>\n",
       "<style scoped>\n",
       "    .dataframe tbody tr th:only-of-type {\n",
       "        vertical-align: middle;\n",
       "    }\n",
       "\n",
       "    .dataframe tbody tr th {\n",
       "        vertical-align: top;\n",
       "    }\n",
       "\n",
       "    .dataframe thead th {\n",
       "        text-align: right;\n",
       "    }\n",
       "</style>\n",
       "<table border=\"1\" class=\"dataframe\">\n",
       "  <thead>\n",
       "    <tr style=\"text-align: right;\">\n",
       "      <th></th>\n",
       "      <th>incident_date</th>\n",
       "      <th>lat</th>\n",
       "      <th>lon</th>\n",
       "      <th>ts</th>\n",
       "    </tr>\n",
       "  </thead>\n",
       "  <tbody>\n",
       "    <tr>\n",
       "      <th>0</th>\n",
       "      <td>2019-09-04 17:00:00</td>\n",
       "      <td>28.527926</td>\n",
       "      <td>77.220591</td>\n",
       "      <td>2019-09-04 17:00:00</td>\n",
       "    </tr>\n",
       "    <tr>\n",
       "      <th>1</th>\n",
       "      <td>2018-01-10 19:00:00</td>\n",
       "      <td>28.643303</td>\n",
       "      <td>77.179705</td>\n",
       "      <td>2018-01-10 19:00:00</td>\n",
       "    </tr>\n",
       "    <tr>\n",
       "      <th>2</th>\n",
       "      <td>2018-06-30 16:00:00</td>\n",
       "      <td>28.632986</td>\n",
       "      <td>77.219374</td>\n",
       "      <td>2018-06-30 16:00:00</td>\n",
       "    </tr>\n",
       "    <tr>\n",
       "      <th>3</th>\n",
       "      <td>2018-08-07 19:00:00</td>\n",
       "      <td>28.683396</td>\n",
       "      <td>77.208465</td>\n",
       "      <td>2018-08-07 19:00:00</td>\n",
       "    </tr>\n",
       "    <tr>\n",
       "      <th>4</th>\n",
       "      <td>2018-03-06 19:00:00</td>\n",
       "      <td>28.680459</td>\n",
       "      <td>77.215037</td>\n",
       "      <td>2018-03-06 19:00:00</td>\n",
       "    </tr>\n",
       "  </tbody>\n",
       "</table>\n",
       "</div>"
      ],
      "text/plain": [
       "         incident_date        lat        lon                  ts\n",
       "0  2019-09-04 17:00:00  28.527926  77.220591 2019-09-04 17:00:00\n",
       "1  2018-01-10 19:00:00  28.643303  77.179705 2018-01-10 19:00:00\n",
       "2  2018-06-30 16:00:00  28.632986  77.219374 2018-06-30 16:00:00\n",
       "3  2018-08-07 19:00:00  28.683396  77.208465 2018-08-07 19:00:00\n",
       "4  2018-03-06 19:00:00  28.680459  77.215037 2018-03-06 19:00:00"
      ]
     },
     "execution_count": 3,
     "metadata": {},
     "output_type": "execute_result"
    }
   ],
   "source": [
    "############################################################################################\n",
    "# Cleaning Dataset\n",
    "############################################################################################\n",
    "\n",
    "##################################################################\n",
    "# Create timestamp\n",
    "##################################################################\n",
    "\n",
    "# Rename columns to lowercase for easy access on pandas\n",
    "df = df.rename(columns={\"incident\": \"incident_date\", \"latitude\": \"lat\", \"longitude\" : \"lon\"})\n",
    "\n",
    "# Create timestamp column in format Year, Month, Day , Hour\n",
    "df['ts'] = pd.to_datetime(df['incident_date'].apply(lambda x :x.split('-')[0]+ \n",
    "                                                                          x.split('-')[1]+ \n",
    "                                                                          x.split('-')[2][0:2]+\n",
    "                                                                          x[11:13]), format='%Y%m%d%H')\n",
    "# Convert latitude and longitude to float \n",
    "df['lat'] = df['lat'].astype(float)\n",
    "df['lon'] = df['lon'].astype(float)\n",
    "\n",
    "df.head()"
   ]
  },
  {
   "cell_type": "markdown",
   "metadata": {},
   "source": [
    "## Data Selection - Spatial Dimension ##\n",
    "\n",
    "### Select Boundaries ###\n",
    "\n",
    "If we select the entire dataset to use to our model we will verify that we will end up with a very sparse matrix where most of the values will always be zero. That happens because the aggregation of the incidents distribution is *not* uniformly distributed around the map. \n",
    "\n",
    "In order to avoid modeling this imprecise data we need to wipe out those reported entries that fall outside of the regios which most of the incidents are concentrated.\n",
    "\n",
    "The approace used for this, using the method `find_best_bounding_map` was the following pipeline\n",
    "* Group all the reported incidents into a defined grid.\n",
    "* Flat the matrix vertically and horizontaly.\n",
    "* Find the first spots on both above directions that bypass a predefine threshold."
   ]
  },
  {
   "cell_type": "code",
   "execution_count": 4,
   "metadata": {},
   "outputs": [
    {
     "name": "stdout",
     "output_type": "stream",
     "text": [
      "Min Lat: 28.448845999999996 , Max Lat: 28.846687\n",
      "Min Lon: 76.95045300000002 , Max Lon: 77.33984799999998\n"
     ]
    },
    {
     "data": {
      "image/png": "[encoded data removed]",
      "text/plain": [
       "<Figure size 1152x1152 with 2 Axes>"
      ]
     },
     "metadata": {
      "needs_background": "light"
     },
     "output_type": "display_data"
    }
   ],
   "source": [
    "##################################################################\n",
    "# Select region of interest for majority of  occurencces\n",
    "##################################################################\n",
    "\n",
    "# We will select just part of the dataset the majority of incidents are aggregated\n",
    "# Increase the threshold if we are still returning a selected map with too many zeroes on borders.\n",
    "best_bound_df = find_best_bounding_map(df, grid=(32,32), threshold = 10)\n",
    "\n",
    "# Select just usefull columns\n",
    "best_bound_df = best_bound_df[['ts','lat','lon']]\n",
    "\n",
    "# Sort values by time stamp\n",
    "best_bound_df = best_bound_df.sort_values(by='ts')"
   ]
  },
  {
   "cell_type": "markdown",
   "metadata": {},
   "source": [
    "## Data Selection - Temporal Dimension ##\n",
    "\n",
    "### Select Time Interval ###\n",
    "\n",
    "We will check here where data concentrates on time dimension."
   ]
  },
  {
   "cell_type": "code",
   "execution_count": 6,
   "metadata": {},
   "outputs": [
    {
     "data": {
      "image/png": "[encoded data removed]",
      "text/plain": [
       "<Figure size 1008x288 with 2 Axes>"
      ]
     },
     "metadata": {
      "needs_background": "light"
     },
     "output_type": "display_data"
    }
   ],
   "source": [
    "# Groupby frequency\n",
    "freq ='M'\n",
    "\n",
    "crime_sum = best_bound_df.groupby([pd.Grouper(key='ts', freq=freq)]).size()   \n",
    "crime_sum = crime_sum.reset_index()\n",
    "crime_sum.rename(columns ={0:'total'},inplace=True)\n",
    "\n",
    "# Select between range where most of data is concentrated\n",
    "start_date = '2013-01-01 00:00:00'\n",
    "end_date = '2017-03-31 00:00:00'\n",
    "\n",
    "crime_sum_selected = best_bound_df[(best_bound_df['ts'] > start_date) & (best_bound_df['ts'] < end_date)]\n",
    "crime_sum_selected = crime_sum_selected.groupby([pd.Grouper(key='ts', freq=freq)]).size()   \n",
    "crime_sum_selected = crime_sum_selected.reset_index()\n",
    "crime_sum_selected.rename(columns ={0:'total'},inplace=True)\n",
    "\n",
    "# define the size of images\n",
    "f, (ax1,ax2) = plt.subplots(2,1)\n",
    "f.set_figwidth(14)\n",
    "f.set_figheight(4)\n",
    "\n",
    "ax1.set_title(\"Crime Counts\")\n",
    "\n",
    "ax1.bar(crime_sum['ts'], crime_sum['total'], width=np.timedelta64(30, 'D'))\n",
    "ax2.bar(crime_sum_selected['ts'], crime_sum_selected['total'], width=np.timedelta64(30, 'D'))\n",
    "\n",
    "# Dataframe with just rows on the range selected dates\n",
    "selected_date_df = best_bound_df[(best_bound_df['ts'] > start_date) & (best_bound_df['ts'] <= end_date)]"
   ]
  },
  {
   "cell_type": "code",
   "execution_count": 7,
   "metadata": {},
   "outputs": [],
   "source": [
    "############################################################################################\n",
    "# Save Processed Dataset \n",
    "############################################################################################\n",
    "selected_date_df.to_csv(os.path.join(dataset_folder,'incidents_df.csv'), index=False)"
   ]
  },
  {
   "cell_type": "code",
   "execution_count": 8,
   "metadata": {},
   "outputs": [
    {
     "data": {
      "text/html": [
       "<div>\n",
       "<style scoped>\n",
       "    .dataframe tbody tr th:only-of-type {\n",
       "        vertical-align: middle;\n",
       "    }\n",
       "\n",
       "    .dataframe tbody tr th {\n",
       "        vertical-align: top;\n",
       "    }\n",
       "\n",
       "    .dataframe thead th {\n",
       "        text-align: right;\n",
       "    }\n",
       "</style>\n",
       "<table border=\"1\" class=\"dataframe\">\n",
       "  <thead>\n",
       "    <tr style=\"text-align: right;\">\n",
       "      <th></th>\n",
       "      <th>ts</th>\n",
       "      <th>lat</th>\n",
       "      <th>lon</th>\n",
       "    </tr>\n",
       "  </thead>\n",
       "  <tbody>\n",
       "    <tr>\n",
       "      <th>0</th>\n",
       "      <td>2013-01-04 15:00:00</td>\n",
       "      <td>28.506054</td>\n",
       "      <td>77.220397</td>\n",
       "    </tr>\n",
       "    <tr>\n",
       "      <th>1</th>\n",
       "      <td>2013-01-08 21:00:00</td>\n",
       "      <td>28.553534</td>\n",
       "      <td>77.299175</td>\n",
       "    </tr>\n",
       "    <tr>\n",
       "      <th>2</th>\n",
       "      <td>2013-01-09 11:00:00</td>\n",
       "      <td>28.562230</td>\n",
       "      <td>77.289725</td>\n",
       "    </tr>\n",
       "    <tr>\n",
       "      <th>3</th>\n",
       "      <td>2013-01-10 01:00:00</td>\n",
       "      <td>28.673312</td>\n",
       "      <td>77.170044</td>\n",
       "    </tr>\n",
       "    <tr>\n",
       "      <th>4</th>\n",
       "      <td>2013-01-10 01:00:00</td>\n",
       "      <td>28.719887</td>\n",
       "      <td>77.125978</td>\n",
       "    </tr>\n",
       "  </tbody>\n",
       "</table>\n",
       "</div>"
      ],
      "text/plain": [
       "                   ts        lat        lon\n",
       "0 2013-01-04 15:00:00  28.506054  77.220397\n",
       "1 2013-01-08 21:00:00  28.553534  77.299175\n",
       "2 2013-01-09 11:00:00  28.562230  77.289725\n",
       "3 2013-01-10 01:00:00  28.673312  77.170044\n",
       "4 2013-01-10 01:00:00  28.719887  77.125978"
      ]
     },
     "execution_count": 8,
     "metadata": {},
     "output_type": "execute_result"
    }
   ],
   "source": [
    "############################################################################################\n",
    "# Load dataset\n",
    "############################################################################################\n",
    "dataset_file = os.path.join(dataset_folder,'incidents_df.csv')\n",
    "incidents_df = pd.read_csv(dataset_file)\n",
    "\n",
    "# Convert object to timestamp\n",
    "incidents_df['ts'] = pd.to_datetime(incidents_df['ts'])\n",
    "\n",
    "incidents_df.head()"
   ]
  },
  {
   "cell_type": "markdown",
   "metadata": {},
   "source": [
    "## Data Pre Processing ##\n",
    "\n",
    "On this part we construct the heatmap incidents based on date and grid position (h,w)\n",
    "\n",
    "![data_preprocessing](images/data_preprocessing.png)"
   ]
  },
  {
   "cell_type": "code",
   "execution_count": 9,
   "metadata": {},
   "outputs": [
    {
     "name": "stdout",
     "output_type": "stream",
     "text": [
      "Min Lat: 28.490664000000002 , Max Lat: 28.75911\n",
      "Min Lon: 76.990485 , Max Lon: 77.33984799999998\n"
     ]
    }
   ],
   "source": [
    "############################################################################################\n",
    "# Create heatmaps\n",
    "############################################################################################\n",
    "\n",
    "# Hyperparameters for heatmap construction\n",
    "T = 1 # Period frequency 1, 2, 3 ,4 \n",
    "freq = 'D' # Date frequency that can be D, W, M for Days, Weeks, Months and so on\n",
    "map_height = 32 # Number of zones that the map will be divided vertically \n",
    "map_width = 32  # Number of zones that the map will be divided horizontally\n",
    "\n",
    "# Define the grid which we want to use to divide your map into zones\n",
    "grid = (map_height,map_width)\n",
    "\n",
    "# Map (lon, lat) into (grid_h, grid_w)\n",
    "df_indexed = create_idx(incidents_df, grid)\n",
    "\n",
    "# Aggregate (time, square, category) to create the incident map sum \n",
    "df_indexed_count = df_indexed.groupby(['grid_h','grid_w', pd.Grouper(key='ts', freq=freq)],as_index=True).size()    \n",
    "df_indexed_count = df_indexed_count.reset_index()    \n",
    "df_indexed_count.rename(columns ={0:'total'},inplace=True)\n",
    "\n",
    "df_indexed_count = df_indexed_count.sort_values(by=['ts'])"
   ]
  },
  {
   "cell_type": "code",
   "execution_count": 10,
   "metadata": {},
   "outputs": [
    {
     "name": "stdout",
     "output_type": "stream",
     "text": [
      "Data size: 583\n"
     ]
    }
   ],
   "source": [
    "############################################################################################\n",
    "# Create our data as dictionary for easy access composed of tuples (heatmap, coords) selected by date key\n",
    "############################################################################################\n",
    "data = {}\n",
    "\n",
    "for ts in df_indexed_count.ts.unique():\n",
    "    \n",
    "    #print(\"Processing data: {0}\".format(ts))\n",
    "    \n",
    "    # Select data just for this timestamp\n",
    "    points_by_date = df_indexed_count[df_indexed_count.ts == ts]\n",
    "    \n",
    "    # Create heatmap\n",
    "    heatmap = np.zeros(grid)\n",
    "    \n",
    "    # Get incident coordinates\n",
    "    crime_coords = []\n",
    "    \n",
    "    # Parse crime incident and heatmap\n",
    "    for index, row in points_by_date.iterrows():\n",
    "        crime_coords.append((row['grid_h'],row['grid_w']))\n",
    "        \n",
    "        heatmap[int(row['grid_h'])][int(row['grid_w'])] += 1\n",
    "    \n",
    "    crime_coords = np.asarray(crime_coords)\n",
    "    \n",
    "    # Store tuple heatmap and crime coordinates on dictionary\n",
    "    data[pd.to_datetime(ts)] = (heatmap, crime_coords)\n",
    "\n",
    "print(\"Data size: {0}\".format(len(data)))"
   ]
  },
  {
   "cell_type": "code",
   "execution_count": 16,
   "metadata": {},
   "outputs": [
    {
     "data": {
      "image/png": "[encoded data removed]",
      "text/plain": [
       "<Figure size 432x432 with 1 Axes>"
      ]
     },
     "metadata": {
      "needs_background": "light"
     },
     "output_type": "display_data"
    },
    {
     "data": {
      "image/png": "[encoded data removed]",
      "text/plain": [
       "<Figure size 432x432 with 1 Axes>"
      ]
     },
     "metadata": {
      "needs_background": "light"
     },
     "output_type": "display_data"
    },
    {
     "data": {
      "image/png": "[encoded data removed]",
      "text/plain": [
       "<Figure size 432x432 with 1 Axes>"
      ]
     },
     "metadata": {
      "needs_background": "light"
     },
     "output_type": "display_data"
    }
   ],
   "source": [
    "############################################################################################\n",
    "# Plot random Samples\n",
    "############################################################################################\n",
    "   \n",
    "# Plot some samples\n",
    "n_samples = 3\n",
    "\n",
    "for i in range(n_samples):\n",
    "\n",
    "    # randomly select a sample\n",
    "    date = random.choice(list(data.keys()))\n",
    "    \n",
    "    # Get heatmap aggregation and incident coordinates\n",
    "    heatmap, coords = data[date]\n",
    "    \n",
    "    # define the size of images\n",
    "    f, ax = plt.subplots()\n",
    "    f.set_figwidth(6)\n",
    "    f.set_figheight(6)\n",
    "    \n",
    "    ax.set_title(\"Heatmap: {0}\".format(date))\n",
    "    \n",
    "    ax.scatter(x=coords[:,1],y=coords[:,0], marker='o', s=10, color='black') \n",
    "    ax.matshow(heatmap, cmap='jet',aspect = ax.get_aspect(), extent = (0,map_height) + (map_width,0))"
   ]
  },
  {
   "cell_type": "code",
   "execution_count": 17,
   "metadata": {},
   "outputs": [
    {
     "name": "stdout",
     "output_type": "stream",
     "text": [
      "Total dates: 583\n",
      "Missig dates: 963\n",
      "Missig rate: 1.65 \n"
     ]
    }
   ],
   "source": [
    "################################\n",
    "# Checking missing data\n",
    "################################\n",
    "def checking_missing_date(data):\n",
    "    \n",
    "    curr_date = min(data.keys())\n",
    "    final_date = max(data.keys())\n",
    "\n",
    "    missing_dates = []\n",
    "    while (curr_date < final_date):\n",
    "        \n",
    "        if curr_date not in data:\n",
    "            missing_dates.append(curr_date)\n",
    "        \n",
    "        curr_date += timedelta(days= T)\n",
    "    \n",
    "    print(\"Total dates: {0}\".format(len(data)))      \n",
    "    print(\"Missig dates: {0}\".format(len(missing_dates)))\n",
    "    print(\"Missig rate: {0:.2f} \".format(len(missing_dates) / len(data)))\n",
    "    \n",
    "    return missing_dates\n",
    "\n",
    "missing_dates = checking_missing_date(data)"
   ]
  },
  {
   "cell_type": "code",
   "execution_count": 18,
   "metadata": {},
   "outputs": [
    {
     "name": "stdout",
     "output_type": "stream",
     "text": [
      "Total dates: 1546\n",
      "Missig dates: 0\n",
      "Missig rate: 0.00 \n"
     ]
    },
    {
     "data": {
      "text/plain": [
       "[]"
      ]
     },
     "execution_count": 18,
     "metadata": {},
     "output_type": "execute_result"
    }
   ],
   "source": [
    "#################################################\n",
    "# Data augmentation using linear interpolation\n",
    "#################################################\n",
    "for ts in missing_dates:\n",
    "    \n",
    "    # Get previous ts\n",
    "    prev_ts = ts\n",
    "    next_ts = ts\n",
    "    prev_data = None\n",
    "    next_data = None\n",
    "    \n",
    "    # Find previous data\n",
    "    while(prev_data is None):\n",
    "        selected_ts = prev_ts - timedelta(days= T)\n",
    "        \n",
    "        if  selected_ts in data:\n",
    "            prev_data = data[selected_ts]\n",
    "            \n",
    "        prev_ts -= timedelta(days= T)\n",
    "    \n",
    "    # Find next data\n",
    "    while(next_data is None):\n",
    "        selected_ts = next_ts + timedelta(days= T)\n",
    "        \n",
    "        if  selected_ts in data:\n",
    "            next_data = data[selected_ts]\n",
    "            \n",
    "        next_ts += timedelta(days= T)\n",
    "        \n",
    "    #print(\"Missing: {0} , Prev: {1}. Next: {2}\".format(ts,prev_ts,next_ts))\n",
    "    \n",
    "    # Make linear interpolation\n",
    "    delta = (next_ts.date() - prev_ts.date()).days / T\n",
    "    \n",
    "    heatmap = (next_data[0] + prev_data[0]) / delta\n",
    "    \n",
    "    # Get aproximated synthetic coordinates\n",
    "    crime_coords = np.argwhere(heatmap > 0)\n",
    "    \n",
    "    # Add entry to our data\n",
    "    data[ts] = (heatmap,crime_coords)\n",
    "\n",
    "checking_missing_date(data)"
   ]
  },
  {
   "cell_type": "code",
   "execution_count": 19,
   "metadata": {},
   "outputs": [
    {
     "name": "stdout",
     "output_type": "stream",
     "text": [
      "X shape:  (575, 1, 32, 32, 16)\n",
      "Y_total:  (575, 1, 32, 32, 1)\n"
     ]
    }
   ],
   "source": [
    "############################################################################################\n",
    "# Create Train / Target data\n",
    "############################################################################################\n",
    "   \n",
    "period = 16\n",
    "period_range =  [T * x for x in range(1,period+1)]\n",
    "period_range.reverse()\n",
    "\n",
    "strides = 1\n",
    "\n",
    "curr_date = min(data.keys()) + timedelta(days=period * T)\n",
    "last_date = max(data.keys())\n",
    "\n",
    "# If we don't have a heatmap for specific date use the zero heatmap\n",
    "heatmap_null = np.zeros(grid)\n",
    "\n",
    "X, Y, Y_timestamp, Y_coords = [], [], [], []\n",
    "\n",
    "while(curr_date < last_date):\n",
    "    \n",
    "    selected_date = curr_date\n",
    "    \n",
    "    # Increment the current timestep to the next stride\n",
    "    curr_date = curr_date + timedelta(days=strides * T)\n",
    "    \n",
    "    # Check if there is data for this timestamp\n",
    "    if selected_date in missing_dates:\n",
    "        # print(\"Skipping {0}\".format(selected_date))\n",
    "        continue\n",
    "    \n",
    "    # print(\"Processing {0}\".format(selected_date))\n",
    "    \n",
    "    # Select all heatmaps for the past timestemps in range of period range\n",
    "    selected_heatmaps = []\n",
    "    \n",
    "    for c in period_range:\n",
    "        \n",
    "        ts = selected_date - timedelta(days=c)\n",
    "        \n",
    "        if ts not in data:\n",
    "            selected_heatmaps.append(heatmap_null)\n",
    "        else:\n",
    "            # Select heatmap from dictionary\n",
    "            heatmap = data[ts][0]\n",
    "           \n",
    "            # Add heatmap to stack for future prediction\n",
    "            selected_heatmaps.append(heatmap)\n",
    "       \n",
    "      \n",
    "    selected_heatmaps = np.stack(selected_heatmaps,axis=-1)\n",
    "    selected_heatmaps = selected_heatmaps[np.newaxis,...]\n",
    "\n",
    "    target_heatmap = np.expand_dims(data[selected_date][0],axis=-1)\n",
    "    target_heatmap = target_heatmap[np.newaxis,...]\n",
    "    \n",
    "    X.append(selected_heatmaps)\n",
    "    Y.append(target_heatmap)\n",
    "    Y_timestamp.append(selected_date)\n",
    "    Y_coords.append(data[selected_date][1])\n",
    "    \n",
    "X = np.asarray(X)\n",
    "Y = np.asarray(Y)\n",
    "\n",
    "print(\"X shape: \", X.shape)\n",
    "print(\"Y_total: \", Y.shape)   "
   ]
  },
  {
   "cell_type": "markdown",
   "metadata": {},
   "source": [
    "## Classification Problem ## \n",
    "\n",
    "We will turn our problem from regression to classification\n",
    "\n",
    "![data_preprocessing](images/binary_map.png)"
   ]
  },
  {
   "cell_type": "code",
   "execution_count": 20,
   "metadata": {},
   "outputs": [
    {
     "data": {
      "text/plain": [
       "<matplotlib.axes._subplots.AxesSubplot at 0x18f968cb978>"
      ]
     },
     "execution_count": 20,
     "metadata": {},
     "output_type": "execute_result"
    },
    {
     "data": {
      "image/png": "[encoded data removed]",
      "text/plain": [
       "<Figure size 1008x288 with 1 Axes>"
      ]
     },
     "metadata": {
      "needs_background": "light"
     },
     "output_type": "display_data"
    }
   ],
   "source": [
    "############################################################################################\n",
    "# Check upsampled values between [0,1] excluded\n",
    "############################################################################################\n",
    "unique, counts = np.unique(np.around(X, 2), return_counts=True)\n",
    "\n",
    "value_counts = pd.DataFrame({'unique': unique, 'counts': list(counts)}, columns=['unique', 'counts'])\n",
    "\n",
    "# Since we want to evaluate just the values between zero and one excluding these we will make another selection\n",
    "value_counts = value_counts[(value_counts.unique > 0) & (value_counts.unique < 1)]\n",
    "value_counts.set_index('unique').plot(kind='bar', figsize=(14, 4))"
   ]
  },
  {
   "cell_type": "code",
   "execution_count": 21,
   "metadata": {},
   "outputs": [
    {
     "name": "stdout",
     "output_type": "stream",
     "text": [
      "X max: 10.0, min 0.0\n",
      "Y max: 10.0, min 0.0\n",
      "X_scaled max: 1.0, min 0.0\n",
      "Y_scaled max: 1.0, min 0.0\n"
     ]
    }
   ],
   "source": [
    "############################################################################################\n",
    "# Convert Heatmaps into Binarymaps\n",
    "############################################################################################\n",
    "X_scaled = X.copy()\n",
    "Y_scaled = Y.copy()\n",
    "\n",
    "# Threshold for binary map clipping\n",
    "threshold = 0.5\n",
    "\n",
    "X_scaled[X_scaled >= threshold] = 1.0\n",
    "X_scaled[X_scaled < threshold] = 0.0\n",
    "\n",
    "Y_scaled[Y_scaled >= threshold] = 1.0\n",
    "Y_scaled[Y_scaled < threshold] = 0.0\n",
    "\n",
    "print(\"X max: {0}, min {1}\".format(X.max(),X.min()))\n",
    "print(\"Y max: {0}, min {1}\".format(Y.max(),Y.min()))\n",
    "\n",
    "print(\"X_scaled max: {0}, min {1}\".format(X_scaled.max(),X_scaled.min()))\n",
    "print(\"Y_scaled max: {0}, min {1}\".format(Y_scaled.max(),Y_scaled.min()))"
   ]
  },
  {
   "cell_type": "markdown",
   "metadata": {},
   "source": [
    "# Train / Test #\n",
    "\n",
    "On this section we divide our X, Y data into training set that will be used for training our model and a test set to validate the model.\n",
    "\n",
    "It is important to highlight that the selected timestamps for Training / Test split excludes the **upsampled** heatmaps for target since we don't want to test our predictions on a synthetic data. "
   ]
  },
  {
   "cell_type": "code",
   "execution_count": 22,
   "metadata": {},
   "outputs": [
    {
     "name": "stdout",
     "output_type": "stream",
     "text": [
      "X Train size:  481\n",
      "X Test size:  83\n"
     ]
    }
   ],
   "source": [
    "############################################################################################\n",
    "# Split dataset into Train / Test\n",
    "############################################################################################\n",
    "\n",
    "# Select just data that belongs to the selected year    \n",
    "year = 2016 \n",
    "month = 7\n",
    "\n",
    "ts_selected = [x for x in Y_timestamp if x.year == year and x.month >= month]  \n",
    " \n",
    "start_date = min(ts_selected)\n",
    "end_date = max(ts_selected)\n",
    "\n",
    "start_idx = Y_timestamp.index(start_date)\n",
    "end_idx = Y_timestamp.index(end_date) + 1\n",
    "\n",
    "# Split dataset into  / test sets\n",
    "X_train, Y_train, Y_coords_train = X_scaled[:start_idx], Y_scaled[:start_idx], Y_coords[:start_idx]\n",
    "X_test,  Y_test, Y_coords_test = X_scaled[start_idx:end_idx], Y_scaled[start_idx:end_idx],Y_coords[start_idx:end_idx]\n",
    "\n",
    "# Time stamp split so we can track the period\n",
    "timestamp_train, timestamp_test = Y_timestamp[:start_idx], Y_timestamp[start_idx:end_idx]\n",
    "\n",
    "print(\"X Train size: \", len(X_train))\n",
    "print(\"X Test size: \", len(X_test))    "
   ]
  },
  {
   "cell_type": "markdown",
   "metadata": {},
   "source": [
    "# Model #\n",
    "\n",
    "A good aproach for dealing with a problem of temporal and spatial dimension at the same time is to use a deep learning model using Convolutional + LSTM (Long Short Term Memory)\n",
    "\n",
    "![model](images/model.png)"
   ]
  },
  {
   "cell_type": "code",
   "execution_count": 23,
   "metadata": {},
   "outputs": [],
   "source": [
    "############################################################################################\n",
    "# Model\n",
    "############################################################################################  \n",
    "def ConvLSTM(input_shape=(1,32,32,16)):\n",
    "    \n",
    "    heatmaps, height, width, channels = input_shape\n",
    "    \n",
    "    Image = Input(shape=input_shape)\n",
    "   \n",
    "    x = ConvLSTM2D(8, kernel_size=(3,3),strides=(1,1), padding=\"same\", return_sequences=True)(Image)\n",
    "    x = BatchNormalization()(x)\n",
    "    x = MaxPooling3D(pool_size=(2,1,1), strides=(2,1,1), padding='same')(x)\n",
    "    \n",
    "    x = Dropout(0.4)(x)\n",
    "    \n",
    "    x = ConvLSTM2D(4, kernel_size=(3,3),strides=(1,1), padding=\"same\", return_sequences=True)(x)\n",
    "    x = BatchNormalization()(x)\n",
    "    x = MaxPooling3D(pool_size=(2,1,1), strides=(2,1,1), padding='same')(x)\n",
    "    \n",
    "    x = Dropout(0.4)(x)\n",
    "    \n",
    "    x = ConvLSTM2D(2, kernel_size=(3,3),strides=(1,1), padding=\"same\", return_sequences=True)(x)\n",
    "    x = BatchNormalization()(x)\n",
    "    x = MaxPooling3D(pool_size=(2,1,1), strides=(2,1,1), padding='same')(x)\n",
    "    \n",
    "    x = Dropout(0.4)(x)\n",
    "    \n",
    "    x = ConvLSTM2D(1, kernel_size=(3,3),strides=(1,1), padding=\"same\", return_sequences=True)(x)\n",
    "    x = BatchNormalization()(x)\n",
    "    x = MaxPooling3D(pool_size=(2,1,1), strides=(2,1,1), padding='same')(x)\n",
    "    \n",
    "    x = Dropout(0.4)(x)\n",
    "    \n",
    "    final_output = Conv3D(1, kernel_size=(1,3,3), padding='same', activation='sigmoid')(x)\n",
    "    \n",
    "    model = Model(inputs=Image, outputs=final_output)\n",
    "    \n",
    "    return model"
   ]
  },
  {
   "cell_type": "markdown",
   "metadata": {},
   "source": [
    "# Loss #\n",
    "\n",
    "Heatmaps are very large sparse matrices (matrix with lots of zeroes), so to equilibrated the loss that naturally towards to the easy way meaning learning to predict only zeros we use a weighted cross entropy function to put more emphasis on missing ones."
   ]
  },
  {
   "cell_type": "code",
   "execution_count": 24,
   "metadata": {},
   "outputs": [],
   "source": [
    "############################################################################################\n",
    "# Loss - Weightned Binary CrossEntropy\n",
    "############################################################################################\n",
    "def weighted_binary_crossentropy( y_true, y_pred, weight=5.) :\n",
    "    y_true = K.clip(y_true, K.epsilon(), 1)\n",
    "    y_pred = K.clip(y_pred, K.epsilon(), 1)\n",
    "    logloss = -(y_true * K.log(y_pred) * weight + (1 - y_true) * K.log(1 - y_pred))\n",
    "    return K.mean( logloss, axis=-1)"
   ]
  },
  {
   "cell_type": "code",
   "execution_count": 25,
   "metadata": {},
   "outputs": [
    {
     "name": "stdout",
     "output_type": "stream",
     "text": [
      "_________________________________________________________________\n",
      "Layer (type)                 Output Shape              Param #   \n",
      "=================================================================\n",
      "input_1 (InputLayer)         (None, 1, 32, 32, 16)     0         \n",
      "_________________________________________________________________\n",
      "conv_lst_m2d_1 (ConvLSTM2D)  (None, 1, 32, 32, 8)      6944      \n",
      "_________________________________________________________________\n",
      "batch_normalization_1 (Batch (None, 1, 32, 32, 8)      32        \n",
      "_________________________________________________________________\n",
      "max_pooling3d_1 (MaxPooling3 (None, 1, 32, 32, 8)      0         \n",
      "_________________________________________________________________\n",
      "dropout_1 (Dropout)          (None, 1, 32, 32, 8)      0         \n",
      "_________________________________________________________________\n",
      "conv_lst_m2d_2 (ConvLSTM2D)  (None, 1, 32, 32, 4)      1744      \n",
      "_________________________________________________________________\n",
      "batch_normalization_2 (Batch (None, 1, 32, 32, 4)      16        \n",
      "_________________________________________________________________\n",
      "max_pooling3d_2 (MaxPooling3 (None, 1, 32, 32, 4)      0         \n",
      "_________________________________________________________________\n",
      "dropout_2 (Dropout)          (None, 1, 32, 32, 4)      0         \n",
      "_________________________________________________________________\n",
      "conv_lst_m2d_3 (ConvLSTM2D)  (None, 1, 32, 32, 2)      440       \n",
      "_________________________________________________________________\n",
      "batch_normalization_3 (Batch (None, 1, 32, 32, 2)      8         \n",
      "_________________________________________________________________\n",
      "max_pooling3d_3 (MaxPooling3 (None, 1, 32, 32, 2)      0         \n",
      "_________________________________________________________________\n",
      "dropout_3 (Dropout)          (None, 1, 32, 32, 2)      0         \n",
      "_________________________________________________________________\n",
      "conv_lst_m2d_4 (ConvLSTM2D)  (None, 1, 32, 32, 1)      112       \n",
      "_________________________________________________________________\n",
      "batch_normalization_4 (Batch (None, 1, 32, 32, 1)      4         \n",
      "_________________________________________________________________\n",
      "max_pooling3d_4 (MaxPooling3 (None, 1, 32, 32, 1)      0         \n",
      "_________________________________________________________________\n",
      "dropout_4 (Dropout)          (None, 1, 32, 32, 1)      0         \n",
      "_________________________________________________________________\n",
      "conv3d_1 (Conv3D)            (None, 1, 32, 32, 1)      10        \n",
      "=================================================================\n",
      "Total params: 9,310\n",
      "Trainable params: 9,280\n",
      "Non-trainable params: 30\n",
      "_________________________________________________________________\n"
     ]
    }
   ],
   "source": [
    "############################################################################################\n",
    "# Training pipeline\n",
    "############################################################################################\n",
    "\n",
    "# Hyperparameters\n",
    "epochs = 100\n",
    "batch_size = 8\n",
    "learning_rate = 0.0001\n",
    "\n",
    "# callbacks\n",
    "model_path = 'saved_models'\n",
    "\n",
    "# File were the best model will be saved during checkpoint     \n",
    "model_file = os.path.join(model_path,'model.h5')\n",
    "\n",
    "# Early stop to avoid overfitting our model\n",
    "early_stopping = EarlyStopping(monitor='val_loss', patience=5, mode='min')\n",
    "\n",
    "# Check point for saving the best model\n",
    "check_pointer = ModelCheckpoint(model_file, monitor='val_loss', mode='min',verbose=1, save_best_only=True)\n",
    "\n",
    "# Logger to store loss on a csv file\n",
    "csv_logger = CSVLogger(filename='model.csv',separator=',', append=True)\n",
    "\n",
    "# Create ST-ResNet Model\n",
    "model = ConvLSTM(input_shape = (1, map_height,map_width,period ))\n",
    "\n",
    "# Create Optimizer\n",
    "optimizer = Adam(lr=learning_rate)\n",
    "\n",
    "# Compile model for training\n",
    "model.compile(optimizer,weighted_binary_crossentropy, metrics=['accuracy'])\n",
    "model.summary()"
   ]
  },
  {
   "cell_type": "code",
   "execution_count": null,
   "metadata": {},
   "outputs": [],
   "source": [
    "# Train the model\n",
    "history = model.fit(X_train, Y_train,\n",
    "                    epochs=epochs,\n",
    "                    batch_size=1,\n",
    "                    validation_split=0.2,\n",
    "                    shuffle=True,\n",
    "                    callbacks=[check_pointer,csv_logger],\n",
    "                    verbose=1)"
   ]
  },
  {
   "cell_type": "markdown",
   "metadata": {},
   "source": [
    "# Model Evaluation #\n",
    "\n",
    "To evaluate our model we use a separated test set to validate its behavior on unseen data and avoid bias.\n",
    "\n",
    "Despite that we are dealing with a classification problem we cannot assume an arbitrary threshold like 0.5 and assume that all values above this line are considered risks and all below neutral cells. Our goal is to predict regions that have higher chances of an incident to occur and not the exactly the spot that a crime will happen. Besides that we trained on large sparse matrices so its natural that all values will lean towards zero.\n",
    "\n",
    "A more practical way is to define a **percentile** among all cell values and decide that above this threshold we will classify it as risky. So for example, if we define that the risky threshold is above the 96th percentile, we first count the number of cells for each value predicted, group them and take the value that represents the 96th threshold. On numpy there is function called `np.percentile` that is useful for this case. On the base article for this project they recommend to take the percentile for the entire test prediction instead of for each sample to average the value between different seasons.\n",
    "\n",
    "![predicted_binary_map](images/predicted_binary_map.png)\n",
    "\n",
    "After deciding the percentile value and converting the analog results into to a binary map we measure the score against the true map. To not penalize the prediction so hard against missing results that can lead up to adjust the model in a way that we end up with a totally overfitted algorithm we give some score for the predicted cell in neighboring areas around hotspots since we didn't miss for so much.\n",
    "\n",
    "Instead of the four classification labels we have no six:\n",
    "\n",
    "The following table represents the labels for each classification: \n",
    "\n",
    "|           Label         | Predicted | True |\n",
    "|-------------------------|:---------:|:----:|\n",
    "| Correct                 |    1    |  1|\n",
    "| Neutral                 |    0   |  0 |\n",
    "| False Positive Neighbor |    1   |  0 with true neighbor 1 |\n",
    "| False Negative Neighbor |    0   |  1 with predicted neighbor 1 |\n",
    "| False Positive          |    1   |  0.0 |\n",
    "| False Negative          |    0   |  1.0 |\n",
    "\n",
    "With this table in mind we count each of those labels for each predicted cell:\n",
    "\n",
    "![predicted_heatmap](images/predicted_heatmap.png)\n",
    "\n",
    "For the example above we have the following results depending on the selected percentile value:\n",
    "\n",
    "|         Label           | p = 0.5|p = 0.6 |\n",
    "|-------------------------|:------:|:------:|\n",
    "| Correct                 |    2   |  1  |\n",
    "| Neutral                 |    48  |  59 |\n",
    "| False Positive Neighbor |    11  |  1  |\n",
    "| False Negative Neighbor |    0   |  1  |\n",
    "| False Positive          |    2   |  1  |\n",
    "| False Negative          |    1   |  1  | \n",
    "\n",
    "The lower the percentile threshold, the higher the number os cells we classify as risky and the higher is our model accuracy, but is it good ? We have to find the perfect balance between risk classification and model accuracy to get the best end-user experience.\n",
    "\n",
    "A conservative view with a lower threshold would lead to a high number of correct classification but at the same time creating the wrong perception for the users that the entire map is a dangerous zone. On the other side if we rise too much the percentile we would barely classify any place as a hotspot and incurring in serious error: FALSE NEGATIVE. \n",
    "\n",
    "There is not a single problem that can be worst for a person's experience than trust on an application that is telling them that they are stepping in a safe zone and end being victim of a crime. In fact depending on the proportion it takes in the media it can be the end for entire system we are building to help people.\n",
    "\n",
    "So, between all those labels, what are the most important ones to look at ? Noah at. al state in the article that **Correct**, **False Negative Neighbor** and **False Negative** should be taking into consideration when doing model evaluation. The goal is to find the balance between **False Negative Vs. Correct + False Negative Neighbor** rate and **Accuracy**.\n",
    "\n"
   ]
  },
  {
   "cell_type": "code",
   "execution_count": 26,
   "metadata": {},
   "outputs": [],
   "source": [
    "model.load_weights(model_file)"
   ]
  },
  {
   "cell_type": "code",
   "execution_count": 29,
   "metadata": {},
   "outputs": [
    {
     "name": "stdout",
     "output_type": "stream",
     "text": [
      "Test threshold: 85\n",
      "Test threshold: 86\n",
      "Test threshold: 87\n",
      "Test threshold: 88\n",
      "Test threshold: 89\n",
      "Test threshold: 90\n",
      "Test threshold: 91\n",
      "Test threshold: 92\n",
      "Test threshold: 93\n",
      "Test threshold: 94\n",
      "Test threshold: 95\n",
      "Test threshold: 96\n",
      "Test threshold: 97\n",
      "Test threshold: 98\n",
      "Test threshold: 99\n"
     ]
    }
   ],
   "source": [
    "#################################################\n",
    "# Model evaluation by threshold\n",
    "#################################################  \n",
    "p_tests = [x for x in range(85,100)]\n",
    "\n",
    "metrics = []\n",
    "\n",
    "for p in p_tests:\n",
    "    \n",
    "    print(\"Test threshold: {0}\".format(p))\n",
    "    \n",
    "    measures = evaluate_model(X_test, Y_test, model, threshold = p)\n",
    "    \n",
    "    sum_score = measures.sum(axis=0)\n",
    "\n",
    "    metrics.append([p,sum_score[0], sum_score[1], sum_score[2], sum_score[3], sum_score[4], sum_score[5]])\n",
    "\n",
    "df_metrics = pd.DataFrame(metrics, columns = ['threshold','Correct','Neutral','FPWN','FNWN','FP','FN']) \n",
    "df_metrics = df_metrics.set_index('threshold')"
   ]
  },
  {
   "cell_type": "code",
   "execution_count": 30,
   "metadata": {},
   "outputs": [],
   "source": [
    "#################################################\n",
    "# Model metrics \n",
    "#################################################\n",
    "df_metrics['CvFN']      = (df_metrics['Correct'] + df_metrics['FNWN'])  / (df_metrics['Correct'] + df_metrics['FNWN'] + df_metrics['FN'])\n",
    "df_metrics['Accuracy']  = (df_metrics['Correct'] + df_metrics['Neutral']) /  df_metrics.sum(axis=1) \n",
    "df_metrics['Score']     = df_metrics['CvFN'] * df_metrics['Accuracy']\n",
    "df_metrics['Recall']    = df_metrics['Correct'] / (df_metrics['Correct'] + df_metrics['FN'])\n",
    "df_metrics['Precision'] = df_metrics['Correct'] / (df_metrics['Correct'] + df_metrics['FP'])\n",
    "df_metrics['F1']        = 2 * df_metrics['Recall'] * df_metrics['Precision'] / (df_metrics['Recall'] + df_metrics['Precision'])"
   ]
  },
  {
   "cell_type": "code",
   "execution_count": 31,
   "metadata": {},
   "outputs": [],
   "source": [
    "# Save metrics for further analisys\n",
    "df_metrics.to_csv('metrics_' + str(T) +'D_' + str(map_height) +'_' + str(map_width) + '.csv')"
   ]
  },
  {
   "cell_type": "code",
   "execution_count": 32,
   "metadata": {},
   "outputs": [
    {
     "data": {
      "text/plain": [
       "(0, 1)"
      ]
     },
     "execution_count": 32,
     "metadata": {},
     "output_type": "execute_result"
    },
    {
     "data": {
      "text/plain": [
       "<Figure size 432x288 with 0 Axes>"
      ]
     },
     "metadata": {},
     "output_type": "display_data"
    },
    {
     "data": {
      "image/png": "[encoded data removed]",
      "text/plain": [
       "<Figure size 1008x432 with 2 Axes>"
      ]
     },
     "metadata": {
      "needs_background": "light"
     },
     "output_type": "display_data"
    }
   ],
   "source": [
    "# For model evaluation we only consider the performance over the following victim cell lavels:\n",
    "# Correct\n",
    "# False Negative With Neighbor Positive\n",
    "# False Negative\n",
    "victim_cells = df_metrics[['Correct','FNWN','FN']] \n",
    "victim_cells = victim_cells.div(victim_cells.sum(axis=1), axis=0)\n",
    "\n",
    "fig = plt.figure()\n",
    "ax = victim_cells.plot(kind ='bar',stacked=True, figsize=(14, 6), use_index=True,color = [\"g\",\"#7af9ab\",\"r\"])\n",
    "ax.legend(loc=\"best\", bbox_to_anchor=(1.0, 1.00))\n",
    "ax2 = ax.twinx()\n",
    "ax2.plot(ax.get_xticks(),df_metrics['Accuracy'].values, linestyle='-', marker='o', linewidth=2.0, color='black')\n",
    "ax2.set_ylim(ymin=0, ymax=1)"
   ]
  },
  {
   "cell_type": "markdown",
   "metadata": {},
   "source": [
    "# Prediction #\n",
    "\n",
    "We will now make some predictions with our trained model on some test samples and analyze the results.\n",
    "\n",
    "The pipeline to make a single prediction is the following:\n",
    "\n",
    "* Make a prediction using the whole dataset of heatmap sequences and select a list of values based on a threshold list.\n",
    "* Make a prediction using a single selected sequence to predict the selected heatmap on a specific date.\n",
    "* Convert the analog results into classes according to the threshold list. \n",
    "* Normalize all classes between 0 and 1\n",
    "* Resize the labeled heatmap using linear interpolation to rise the resolution for helping visualization."
   ]
  },
  {
   "cell_type": "code",
   "execution_count": 38,
   "metadata": {},
   "outputs": [
    {
     "name": "stdout",
     "output_type": "stream",
     "text": [
      "Threshold for 25, 75, 91 and 96 percentile : [0.00203593575861305, 0.005756543832831085, 0.010972249060869214, 0.03135740995407105]\n"
     ]
    }
   ],
   "source": [
    "# First we search for all values on predicted values on the defined thresholds below\n",
    "thresholds = find_percentiles(X_test, model, [25,75,91,96])\n",
    "thresholds.sort()\n",
    "\n",
    "print(\"Threshold for 25, 75, 91 and 96 percentile : {0}\".format(thresholds))"
   ]
  },
  {
   "cell_type": "code",
   "execution_count": 44,
   "metadata": {},
   "outputs": [
    {
     "data": {
      "image/png": "[encoded data removed]",
      "text/plain": [
       "<Figure size 1152x576 with 2 Axes>"
      ]
     },
     "metadata": {
      "needs_background": "light"
     },
     "output_type": "display_data"
    },
    {
     "data": {
      "image/png": "[encoded data removed]",
      "text/plain": [
       "<Figure size 1152x576 with 2 Axes>"
      ]
     },
     "metadata": {
      "needs_background": "light"
     },
     "output_type": "display_data"
    },
    {
     "data": {
      "image/png": "[encoded data removed]",
      "text/plain": [
       "<Figure size 1152x576 with 2 Axes>"
      ]
     },
     "metadata": {
      "needs_background": "light"
     },
     "output_type": "display_data"
    }
   ],
   "source": [
    "# Plot some samples\n",
    "n_samples = 3\n",
    "\n",
    "for i in range(n_samples):\n",
    "\n",
    "    # Select sample test to evaluate the results\n",
    "    idx = np.random.randint(0, len(X_test))\n",
    "\n",
    "    # Get real incidents coordinates to plot on graph\n",
    "    coords = Y_coords_test[idx]\n",
    "\n",
    "    # Get incident's date\n",
    "    date = timestamp_test[idx]\n",
    "\n",
    "    # Predict heatmap\n",
    "    heatmap = model.predict(X_test[idx][np.newaxis,...])\n",
    "\n",
    "    # Remove extra single dimensions\n",
    "    heatmap = np.squeeze(heatmap)\n",
    "\n",
    "    # Create a classification based on a list with threshold values\n",
    "    heatmap[heatmap >= thresholds[3]] = 4\n",
    "    heatmap[(heatmap >= thresholds[2]) & (heatmap < thresholds[3])] = 3\n",
    "    heatmap[(heatmap >= thresholds[1]) & (heatmap < thresholds[2])] = 2\n",
    "    heatmap[(heatmap >= thresholds[0]) & (heatmap < thresholds[1])] = 1\n",
    "    heatmap[heatmap < thresholds[0]] = 0\n",
    "\n",
    "    # Resize heatmap with linear interpolation technique to amplify resolution\n",
    "    heatmap_scal = billinear_interpolation(heatmap,(2 * map_height, 2 * map_width))\n",
    "\n",
    "    # Normalize heatmap between [0, 1]\n",
    "    heatmap_norm = (heatmap_scal - heatmap_scal.min()) / (heatmap_scal.max() - heatmap_scal.min())\n",
    "\n",
    "    # Plot results\n",
    "    f, (ax1, ax2) = plt.subplots(1,2)\n",
    "    f.set_figwidth(16)\n",
    "    f.set_figheight(8)\n",
    "\n",
    "    ax1.set_title(\"Heatmap: {0}\".format(date))\n",
    "\n",
    "    ax1.scatter(x=coords[:,1],y=coords[:,0], marker='o', s=20, color='black') \n",
    "    ax1.matshow(heatmap, cmap='jet',aspect = ax.get_aspect(), extent = (0,map_height) + (map_width,0))\n",
    "\n",
    "    ax2.set_title(\"Heatmap Upsampled: {0}\".format(date))\n",
    "\n",
    "    ax2.scatter(x=coords[:,1],y=coords[:,0], marker='o', s=20, color='black') \n",
    "    ax2.matshow(heatmap_norm, cmap='jet',aspect = ax.get_aspect(), extent = (0,map_height) + (map_width,0))"
   ]
  },
  {
   "cell_type": "markdown",
   "metadata": {},
   "source": [
    "# Prediction with higher threshold  #\n",
    "\n",
    "Let's make the prediction again using higher threshold list. Instelad of taking the 91th and 96th percentile, we will use the 94th and 99th."
   ]
  },
  {
   "cell_type": "code",
   "execution_count": 45,
   "metadata": {},
   "outputs": [
    {
     "name": "stdout",
     "output_type": "stream",
     "text": [
      "Threshold for 25, 75, 94 and 99 percentile : [0.00203593575861305, 0.005756543832831085, 0.01868795424699781, 0.15036320298910097]\n"
     ]
    }
   ],
   "source": [
    "# Rised the thresholds list\n",
    "thresholds = find_percentiles(X_test, model, [25,75,94,99])\n",
    "thresholds.sort()\n",
    "\n",
    "print(\"Threshold for 25, 75, 94 and 99 percentile : {0}\".format(thresholds))"
   ]
  },
  {
   "cell_type": "code",
   "execution_count": 46,
   "metadata": {},
   "outputs": [
    {
     "data": {
      "image/png": "[encoded data removed]",
      "text/plain": [
       "<Figure size 1152x576 with 2 Axes>"
      ]
     },
     "metadata": {
      "needs_background": "light"
     },
     "output_type": "display_data"
    },
    {
     "data": {
      "image/png": "[encoded data removed]",
      "text/plain": [
       "<Figure size 1152x576 with 2 Axes>"
      ]
     },
     "metadata": {
      "needs_background": "light"
     },
     "output_type": "display_data"
    },
    {
     "data": {
      "image/png": "[encoded data removed]",
      "text/plain": [
       "<Figure size 1152x576 with 2 Axes>"
      ]
     },
     "metadata": {
      "needs_background": "light"
     },
     "output_type": "display_data"
    }
   ],
   "source": [
    "# Plot some samples\n",
    "n_samples = 3\n",
    "\n",
    "for i in range(n_samples):\n",
    "\n",
    "    # Select sample test to evaluate the results\n",
    "    idx = np.random.randint(0, len(X_test))\n",
    "\n",
    "    # Get real incidents coordinates to plot on graph\n",
    "    coords = Y_coords_test[idx]\n",
    "\n",
    "    # Get incident's date\n",
    "    date = timestamp_test[idx]\n",
    "\n",
    "    # Predict heatmap\n",
    "    heatmap = model.predict(X_test[idx][np.newaxis,...])\n",
    "\n",
    "    # Remove extra single dimensions\n",
    "    heatmap = np.squeeze(heatmap)\n",
    "\n",
    "    # Create a classification based on a list with threshold values\n",
    "    heatmap[heatmap >= thresholds[3]] = 4\n",
    "    heatmap[(heatmap >= thresholds[2]) & (heatmap < thresholds[3])] = 3\n",
    "    heatmap[(heatmap >= thresholds[1]) & (heatmap < thresholds[2])] = 2\n",
    "    heatmap[(heatmap >= thresholds[0]) & (heatmap < thresholds[1])] = 1\n",
    "    heatmap[heatmap < thresholds[0]] = 0\n",
    "\n",
    "    # Resize heatmap with linear interpolation technique to amplify resolution\n",
    "    heatmap_scal = billinear_interpolation(heatmap,(2 * map_height, 2 * map_width))\n",
    "\n",
    "    # Normalize heatmap between [0, 1]\n",
    "    heatmap_norm = (heatmap_scal - heatmap_scal.min()) / (heatmap_scal.max() - heatmap_scal.min())\n",
    "\n",
    "    # Plot results\n",
    "    f, (ax1, ax2) = plt.subplots(1,2)\n",
    "    f.set_figwidth(16)\n",
    "    f.set_figheight(8)\n",
    "\n",
    "    ax1.set_title(\"Heatmap: {0}\".format(date))\n",
    "\n",
    "    ax1.scatter(x=coords[:,1],y=coords[:,0], marker='o', s=20, color='black') \n",
    "    ax1.matshow(heatmap, cmap='jet',aspect = ax.get_aspect(), extent = (0,map_height) + (map_width,0))\n",
    "\n",
    "    ax2.set_title(\"Heatmap Upsampled: {0}\".format(date))\n",
    "\n",
    "    ax2.scatter(x=coords[:,1],y=coords[:,0], marker='o', s=20, color='black') \n",
    "    ax2.matshow(heatmap_norm, cmap='jet',aspect = ax.get_aspect(), extent = (0,map_height) + (map_width,0))"
   ]
  },
  {
   "cell_type": "markdown",
   "metadata": {},
   "source": [
    "As it is possible to see we increase the number of cells classified and `Neutral` providing a more accurate safe zone for the end user but at the same time we have a chance to miss more incidents.\n",
    "\n",
    "This is to illustrate the importance between finding a good balance between safety and precision because in the end the success or the failure of all your work will be evaluated using the only metric that matters for your built in application: **RELIABILITY**. Once your end users don't trust any more on what they are seeing it is done, so balance is the key."
   ]
  },
  {
   "cell_type": "markdown",
   "metadata": {},
   "source": [
    "# Bibliography #\n",
    "\n",
    "Holm, Noah;Plynning, E. (2018). Spatio-temporal prediction of residential burglaries using convolutional LSTM neural networks.\n",
    "\n",
    "Schlegel, U. (2018). Universität Konstanz Department of Computer Science Master Thesis.\n",
    "\n",
    "Stalidis, P., Semertzidis, T., & Daras, P. (2018). Examining Deep Learning Architectures for Crime Classification and Prediction, 1–12. Retrieved from http://arxiv.org/abs/1812.00602\n",
    "\n",
    "Wang, B., Zhang, D., Zhang, D., Brantingham, P. J., & Bertozzi, A. L. (2017). Deep Learning for Real Time Crime Forecasting, 33–36. Retrieved from http://arxiv.org/abs/1707.03340\n",
    "\n",
    "Zhang, J., Zheng, Y., & Qi, D. (2017). Deep spatio-temporal residual networks for citywide crowd flows prediction. 31st AAAI Conference on Artificial Intelligence, AAAI 2017, 1655–1661."
   ]
  },
  {
   "cell_type": "code",
   "execution_count": null,
   "metadata": {},
   "outputs": [],
   "source": []
  }
 ],
 "metadata": {
  "kernelspec": {
   "display_name": "Python 3",
   "language": "python",
   "name": "python3"
  },
  "language_info": {
   "codemirror_mode": {
    "name": "ipython",
    "version": 3
   },
   "file_extension": ".py",
   "mimetype": "text/x-python",
   "name": "python",
   "nbconvert_exporter": "python",
   "pygments_lexer": "ipython3",
   "version": "3.6.7"
  }
 },
 "nbformat": 4,
 "nbformat_minor": 2
}
